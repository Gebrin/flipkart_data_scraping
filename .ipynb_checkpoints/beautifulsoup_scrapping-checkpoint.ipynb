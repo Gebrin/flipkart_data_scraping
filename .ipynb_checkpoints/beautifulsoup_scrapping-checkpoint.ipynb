{
 "cells": [
  {
   "cell_type": "code",
   "execution_count": null,
   "id": "25b5ed0c",
   "metadata": {},
   "outputs": [],
   "source": [
    "import requests\n",
    "from bs4 import BeautifulSoup\n",
    "import pandas as pd\n",
    "import datetime\n",
    "\n",
    "\n",
    "baseurl = 'https://www.flipkart.com'\n",
    "product_links = []\n",
    "\n",
    "for x in range(1,3):\n",
    "    r = requests.get(f'https://www.flipkart.com/mobiles/pr?sid=tyy%2C4io&param=0001&ctx=eyJjYXJkQ29udGV4dCI6eyJhdHRyaWJ1dGVzIjp7InRpdGxlIjp7Im11bHRpVmFsdWVkQXR0cmlidXRlIjp7ImtleSI6InRpdGxlIiwiaW5mZXJlbmNlVHlwZSI6IlRJVExFIiwidmFsdWVzIjpbIlBvY28gc21hcnRwaG9uZXMiXSwidmFsdWVUeXBlIjoiTVVMVElfVkFMVUVEIn19fX19&wid=38.productCard.PMU_V2_32&page={x}')\n",
    "    soup = BeautifulSoup(r.content)\n",
    "\n",
    "\n",
    "    spans = soup.find_all('div',{'class':'_2kHMtA'})\n",
    "\n",
    "    for span in spans:\n",
    "        links = span.find_all('a')\n",
    "        for link in links:\n",
    "            productlinks = baseurl + link['href']\n",
    "            product_links.append(productlinks)\n",
    "            # print(productlinks)\n",
    "            \n",
    "prdctlist = []\n",
    "for links in product_links:\n",
    "    r = requests.get(links)\n",
    "    soup = BeautifulSoup(r.content)\n",
    "    try:\n",
    "        name = soup.find('h1', class_ = 'yhB1nd').text.strip()\n",
    "    except:\n",
    "        name = 'None'\n",
    "    try:\n",
    "        rating = soup.find('div',class_ = '_3LWZlK').text.strip()\n",
    "    except:\n",
    "        rating = 'None'\n",
    "    try:\n",
    "        price = soup.find('div', class_ = '_30jeq3 _16Jk6d').text.strip()\n",
    "    except:\n",
    "        price = 'None'\n",
    "    try:\n",
    "        oldprice = soup.find('div', class_ = '_3I9_wc _2p6lqe').text.strip()\n",
    "    except:\n",
    "        oldprice = 'None'\n",
    "    try:\n",
    "        brand = soup.find('div', class_ = '_1LJS6T _2whKao _1QoaG0').text.strip(\" \").upper().split()[0]\n",
    "    except:\n",
    "        brand = 'None'\n",
    "    \n",
    "    \n",
    "    flipkart_mobile  = {\n",
    "        'Product_Name' : name,\n",
    "        'Product_Brand' : brand,\n",
    "        'Rating' : rating,\n",
    "        'Old_Price' : oldprice,\n",
    "        'Current_Price' : price\n",
    "    }\n",
    "    \n",
    "    \n",
    "    prdctlist.append(flipkart_mobile)\n",
    "    \n",
    "    print('Saving : ' , flipkart_mobile['Product_Name'])\n",
    "    \n",
    "df = pd.DataFrame(prdctlist)\n",
    "df.to_csv('Flipkart_mobileprice.csv')\n",
    "\n",
    "print(df.head(15))"
   ]
  },
  {
   "cell_type": "code",
   "execution_count": 51,
   "id": "c84607fd",
   "metadata": {},
   "outputs": [
    {
     "name": "stdout",
     "output_type": "stream",
     "text": [
      "0\n"
     ]
    }
   ],
   "source": [
    "print(len(product_links))"
   ]
  },
  {
   "cell_type": "code",
   "execution_count": 33,
   "id": "ec1e148e",
   "metadata": {},
   "outputs": [
    {
     "name": "stdout",
     "output_type": "stream",
     "text": [
      "APPLE iPhone 14 (Blue, 128 GB) \n",
      " 4.6 \n",
      " ₹58,999 \n",
      " ₹69,900 \n",
      " APPLE\n"
     ]
    }
   ],
   "source": [
    "testlink = 'https://www.flipkart.com/apple-iphone-14-blue-128-gb/p/itmdb77f40da6b6d?pid=MOBGHWFHSV7GUFWA&lid=LSTMOBGHWFHSV7GUFWAC4ZPNA&marketplace=FLIPKART&store=tyy%2F4io&srno=b_1_3&otracker=browse&fm=neo%2Fmerchandising&iid=d3019a7f-d33c-467c-9179-d210236bbc57.MOBGHWFHSV7GUFWA.SEARCH&ppt=browse&ppn=browse&ssid=9tiieny0wyog91j41703225587751'\n",
    "r = requests.get(testlink)\n",
    "soup = BeautifulSoup(r.content)\n",
    "name = soup.find('h1', class_ = 'yhB1nd').text.strip()\n",
    "rating = soup.find('div',class_ = '_3LWZlK').text.strip()\n",
    "price = soup.find('div', class_ = '_30jeq3 _16Jk6d').text.strip()\n",
    "oldprice = soup.find('div', class_ = '_3I9_wc _2p6lqe').text.strip()\n",
    "brand = soup.find('div', class_ = '_1LJS6T _2whKao _1QoaG0').text.strip(\" \").upper().split()[0]\n",
    "print(name,'\\n',rating,'\\n',price,'\\n',oldprice,'\\n',brand)\n",
    "\n"
   ]
  },
  {
   "cell_type": "code",
   "execution_count": 45,
   "id": "8301f952",
   "metadata": {},
   "outputs": [
    {
     "name": "stdout",
     "output_type": "stream",
     "text": [
      "Requirement already satisfied: pandas in /Library/Frameworks/Python.framework/Versions/3.10/lib/python3.10/site-packages (1.5.2)\n",
      "Requirement already satisfied: python-dateutil>=2.8.1 in /Library/Frameworks/Python.framework/Versions/3.10/lib/python3.10/site-packages (from pandas) (2.8.2)\n",
      "Requirement already satisfied: pytz>=2020.1 in /Library/Frameworks/Python.framework/Versions/3.10/lib/python3.10/site-packages (from pandas) (2022.7.1)\n",
      "Requirement already satisfied: numpy>=1.21.0 in /Library/Frameworks/Python.framework/Versions/3.10/lib/python3.10/site-packages (from pandas) (1.24.1)\n",
      "Requirement already satisfied: six>=1.5 in /Library/Frameworks/Python.framework/Versions/3.10/lib/python3.10/site-packages (from python-dateutil>=2.8.1->pandas) (1.14.0)\n",
      "\n",
      "\u001b[1m[\u001b[0m\u001b[34;49mnotice\u001b[0m\u001b[1;39;49m]\u001b[0m\u001b[39;49m A new release of pip is available: \u001b[0m\u001b[31;49m23.2.1\u001b[0m\u001b[39;49m -> \u001b[0m\u001b[32;49m23.3.2\u001b[0m\n",
      "\u001b[1m[\u001b[0m\u001b[34;49mnotice\u001b[0m\u001b[1;39;49m]\u001b[0m\u001b[39;49m To update, run: \u001b[0m\u001b[32;49mpip3.10 install --upgrade pip\u001b[0m\n",
      "Note: you may need to restart the kernel to use updated packages.\n"
     ]
    }
   ],
   "source": [
    "pip install pandas\n"
   ]
  },
  {
   "cell_type": "code",
   "execution_count": 47,
   "id": "b27b7e48",
   "metadata": {},
   "outputs": [
    {
     "name": "stdout",
     "output_type": "stream",
     "text": [
      "Requirement already satisfied: pip in /Library/Frameworks/Python.framework/Versions/3.10/lib/python3.10/site-packages (23.2.1)\n",
      "Collecting pip\n",
      "  Obtaining dependency information for pip from https://files.pythonhosted.org/packages/15/aa/3f4c7bcee2057a76562a5b33ecbd199be08cdb4443a02e26bd2c3cf6fc39/pip-23.3.2-py3-none-any.whl.metadata\n",
      "  Downloading pip-23.3.2-py3-none-any.whl.metadata (3.5 kB)\n",
      "Downloading pip-23.3.2-py3-none-any.whl (2.1 MB)\n",
      "\u001b[2K   \u001b[90m━━━━━━━━━━━━━━━━━━━━━━━━━━━━━━━━━━━━━━━━\u001b[0m \u001b[32m2.1/2.1 MB\u001b[0m \u001b[31m3.5 MB/s\u001b[0m eta \u001b[36m0:00:00\u001b[0ma \u001b[36m0:00:01\u001b[0m\n",
      "\u001b[?25hInstalling collected packages: pip\n",
      "  Attempting uninstall: pip\n",
      "    Found existing installation: pip 23.2.1\n",
      "    Uninstalling pip-23.2.1:\n",
      "      Successfully uninstalled pip-23.2.1\n",
      "Successfully installed pip-23.3.2\n",
      "Note: you may need to restart the kernel to use updated packages.\n"
     ]
    }
   ],
   "source": [
    "pip install --upgrade pip"
   ]
  },
  {
   "cell_type": "code",
   "execution_count": 48,
   "id": "5bfa4168",
   "metadata": {},
   "outputs": [
    {
     "name": "stdout",
     "output_type": "stream",
     "text": [
      "Requirement already satisfied: pandas in /Library/Frameworks/Python.framework/Versions/3.10/lib/python3.10/site-packages (1.5.2)\n",
      "Requirement already satisfied: python-dateutil>=2.8.1 in /Library/Frameworks/Python.framework/Versions/3.10/lib/python3.10/site-packages (from pandas) (2.8.2)\n",
      "Requirement already satisfied: pytz>=2020.1 in /Library/Frameworks/Python.framework/Versions/3.10/lib/python3.10/site-packages (from pandas) (2022.7.1)\n",
      "Requirement already satisfied: numpy>=1.21.0 in /Library/Frameworks/Python.framework/Versions/3.10/lib/python3.10/site-packages (from pandas) (1.24.1)\n",
      "Requirement already satisfied: six>=1.5 in /Library/Frameworks/Python.framework/Versions/3.10/lib/python3.10/site-packages (from python-dateutil>=2.8.1->pandas) (1.14.0)\n",
      "Note: you may need to restart the kernel to use updated packages.\n"
     ]
    }
   ],
   "source": [
    "pip install pandas"
   ]
  },
  {
   "cell_type": "code",
   "execution_count": 59,
   "id": "d21de251",
   "metadata": {},
   "outputs": [
    {
     "name": "stdout",
     "output_type": "stream",
     "text": [
      "https://www.flipkart.com/motorola-edge-40-neo-caneel-bay-128-gb/p/itm122f351a3a2a3?pid=MOBGQFX6K7YQJRSY&lid=LSTMOBGQFX6K7YQJRSY6BK1PK&marketplace=FLIPKART&store=tyy%2F4io&otracker=browse&fm=organic&iid=en_NWSuPasSbyPAX79WMhFMt-U58j0OkfCQOABP8pubkuOcewU07GAo4hfwSy4S44IeEf_enk9S_Uoozt-pkVFmwg%3D%3D&ppt=None&ppn=None&ssid=ooxktb02og0000001703233463694\n",
      "https://www.flipkart.com/motorola-edge-40-neo-caneel-bay-256-gb/p/itm55813a9671489?pid=MOBGQFX6APUFAPMS&lid=LSTMOBGQFX6APUFAPMSO5N7CJ&marketplace=FLIPKART&store=tyy%2F4io&otracker=browse&fm=organic&iid=en_NWSuPasSbyPAX79WMhFMt-U58j0OkfCQOABP8pubkuPOBhovEvz218kvJK5-8qnSajoJe4MVXJaCaq0rpPDrhA%3D%3D&ppt=None&ppn=None&ssid=ooxktb02og0000001703233463694\n",
      "https://www.flipkart.com/vivo-t2x-5g-marine-blue-128-gb/p/itmcb8f0f6a85d5d?pid=MOBGZBFU4HBKKFSN&lid=LSTMOBGZBFU4HBKKFSNRCJ28C&marketplace=FLIPKART&store=tyy%2F4io&spotlightTagId=BestsellerId_tyy%2F4io&otracker=browse&fm=organic&iid=17359e1e-b974-4b94-9054-82d4fee54f98.MOBGZBFU4HBKKFSN.SEARCH&ppt=None&ppn=None&ssid=ooxktb02og0000001703233463694\n",
      "https://www.flipkart.com/vivo-t2x-5g-aurora-gold-128-gb/p/itmcb8f0f6a85d5d?pid=MOBGZBFUFNDXSGHS&lid=LSTMOBGZBFUFNDXSGHS1WR15D&marketplace=FLIPKART&store=tyy%2F4io&spotlightTagId=BestsellerId_tyy%2F4io&otracker=browse&fm=organic&iid=17359e1e-b974-4b94-9054-82d4fee54f98.MOBGZBFUFNDXSGHS.SEARCH&ppt=None&ppn=None&ssid=ooxktb02og0000001703233463694\n",
      "https://www.flipkart.com/vivo-t2x-5g-glimmer-black-128-gb/p/itmcb8f0f6a85d5d?pid=MOBGZBFUF389GDMP&lid=LSTMOBGZBFUF389GDMPKCQWJ4&marketplace=FLIPKART&store=tyy%2F4io&otracker=browse&fm=organic&iid=17359e1e-b974-4b94-9054-82d4fee54f98.MOBGZBFUF389GDMP.SEARCH&ppt=None&ppn=None&ssid=ooxktb02og0000001703233463694\n",
      "https://www.flipkart.com/vivo-t2x-5g-aurora-gold-128-gb/p/itmcb8f0f6a85d5d?pid=MOBGZBFUQMTHYHSH&lid=LSTMOBGZBFUQMTHYHSHQ0KBA5&marketplace=FLIPKART&store=tyy%2F4io&otracker=browse&fm=organic&iid=17359e1e-b974-4b94-9054-82d4fee54f98.MOBGZBFUQMTHYHSH.SEARCH&ppt=None&ppn=None&ssid=ooxktb02og0000001703233463694\n",
      "https://www.flipkart.com/vivo-t2x-5g-marine-blue-128-gb/p/itmcb8f0f6a85d5d?pid=MOBGZBFUPTU7DNCA&lid=LSTMOBGZBFUPTU7DNCALOZWX1&marketplace=FLIPKART&store=tyy%2F4io&otracker=browse&fm=organic&iid=17359e1e-b974-4b94-9054-82d4fee54f98.MOBGZBFUPTU7DNCA.SEARCH&ppt=None&ppn=None&ssid=ooxktb02og0000001703233463694\n",
      "https://www.flipkart.com/motorola-g84-5g-viva-magenta-256-gb/p/itmed938e33ffdf5?pid=MOBGQFX672GDDQAQ&lid=LSTMOBGQFX672GDDQAQSSIAM2&marketplace=FLIPKART&store=tyy%2F4io&otracker=browse&fm=organic&iid=en_NWSuPasSbyPAX79WMhFMt-U58j0OkfCQOABP8pubkuNCt-abzotoXC9B08QFZBQ-8UDPZfbQZy0qgd5P9R7yRQ%3D%3D&ppt=None&ppn=None&ssid=ooxktb02og0000001703233463694\n",
      "https://www.flipkart.com/vivo-t2x-5g-glimmer-black-128-gb/p/itmcb8f0f6a85d5d?pid=MOBGZBFUZDW5JHYW&lid=LSTMOBGZBFUZDW5JHYWRCDY5W&marketplace=FLIPKART&store=tyy%2F4io&otracker=browse&fm=organic&iid=17359e1e-b974-4b94-9054-82d4fee54f98.MOBGZBFUZDW5JHYW.SEARCH&ppt=None&ppn=None&ssid=ooxktb02og0000001703233463694\n",
      "https://www.flipkart.com/vivo-t2x-5g-glimmer-black-128-gb/p/itmcb8f0f6a85d5d?pid=MOBGZBFUZEMCKRGE&lid=LSTMOBGZBFUZEMCKRGEW3VLBC&marketplace=FLIPKART&store=tyy%2F4io&otracker=browse&fm=organic&iid=17359e1e-b974-4b94-9054-82d4fee54f98.MOBGZBFUZEMCKRGE.SEARCH&ppt=None&ppn=None&ssid=ooxktb02og0000001703233463694\n",
      "https://www.flipkart.com/motorola-edge-40-neo-black-beauty-256-gb/p/itmd1cc863c7e37a?pid=MOBGQFX6FXEZ3GCE&lid=LSTMOBGQFX6FXEZ3GCE0MNO3C&marketplace=FLIPKART&store=tyy%2F4io&otracker=browse&fm=organic&iid=en_NWSuPasSbyPAX79WMhFMt-U58j0OkfCQOABP8pubkuPFWCgvtZ_FaEDqH25_cpaPCFYRZJbqGDiemLgHicc1_w%3D%3D&ppt=None&ppn=None&ssid=ooxktb02og0000001703233463694\n",
      "https://www.flipkart.com/motorola-edge-40-neo-soothing-sea-128-gb/p/itmcfb87467e7d9a?pid=MOBGQFX6AG2JD2XT&lid=LSTMOBGQFX6AG2JD2XTSPSYR7&marketplace=FLIPKART&store=tyy%2F4io&otracker=browse&fm=organic&iid=en_NWSuPasSbyPAX79WMhFMt-U58j0OkfCQOABP8pubkuNRM3wFSi7IhOnTiEobKCGy0Hqj8EyOWKNIlq3czjIamA%3D%3D&ppt=None&ppn=None&ssid=ooxktb02og0000001703233463694\n",
      "https://www.flipkart.com/vivo-t2x-5g-aurora-gold-128-gb/p/itmcb8f0f6a85d5d?pid=MOBGZBFUSEFSWASX&lid=LSTMOBGZBFUSEFSWASX1YPF2N&marketplace=FLIPKART&store=tyy%2F4io&otracker=browse&fm=organic&iid=17359e1e-b974-4b94-9054-82d4fee54f98.MOBGZBFUSEFSWASX.SEARCH&ppt=None&ppn=None&ssid=ooxktb02og0000001703233463694\n",
      "https://www.flipkart.com/vivo-t2x-5g-marine-blue-128-gb/p/itmcb8f0f6a85d5d?pid=MOBGZBFUZHRYUKVR&lid=LSTMOBGZBFUZHRYUKVRNME6VW&marketplace=FLIPKART&store=tyy%2F4io&otracker=browse&fm=organic&iid=17359e1e-b974-4b94-9054-82d4fee54f98.MOBGZBFUZHRYUKVR.SEARCH&ppt=None&ppn=None&ssid=ooxktb02og0000001703233463694\n",
      "https://www.flipkart.com/samsung-galaxy-f14-5g-goat-green-128-gb/p/itm032d1a69999cc?pid=MOBGNBFNDPGNJ7HY&lid=LSTMOBGNBFNDPGNJ7HYRCCFUH&marketplace=FLIPKART&store=tyy%2F4io&otracker=browse&fm=organic&iid=17359e1e-b974-4b94-9054-82d4fee54f98.MOBGNBFNDPGNJ7HY.SEARCH&ppt=None&ppn=None&ssid=ooxktb02og0000001703233463694\n",
      "https://www.flipkart.com/apple-iphone-14-blue-128-gb/p/itmdb77f40da6b6d?pid=MOBGHWFHSV7GUFWA&lid=LSTMOBGHWFHSV7GUFWAC4ZPNA&marketplace=FLIPKART&store=tyy%2F4io&otracker=browse&fm=organic&iid=17359e1e-b974-4b94-9054-82d4fee54f98.MOBGHWFHSV7GUFWA.SEARCH&ppt=None&ppn=None&ssid=ooxktb02og0000001703233463694\n",
      "https://www.flipkart.com/motorola-edge-40-neo-soothing-sea-256-gb/p/itm5bd7da24f41ef?pid=MOBGQFX6H2H2UHFZ&lid=LSTMOBGQFX6H2H2UHFZML9ANG&marketplace=FLIPKART&store=tyy%2F4io&otracker=browse&fm=organic&iid=en_NWSuPasSbyPAX79WMhFMt-U58j0OkfCQOABP8pubkuOfHq3sxn8xopWzzWJhYrFLor6cjGCl8LWyk8Q413r5zw%3D%3D&ppt=None&ppn=None&ssid=ooxktb02og0000001703233463694\n",
      "https://www.flipkart.com/motorola-g84-5g-marshmallow-blue-256-gb/p/itm7807a599d2202?pid=MOBGQFX6CNRYHFGF&lid=LSTMOBGQFX6CNRYHFGFLFOXPA&marketplace=FLIPKART&store=tyy%2F4io&otracker=browse&fm=organic&iid=en_NWSuPasSbyPAX79WMhFMt-U58j0OkfCQOABP8pubkuM6fB0VMK0mw6wvH72dwGal7nkuszfuFkn1ijQmccnhQA%3D%3D&ppt=None&ppn=None&ssid=ooxktb02og0000001703233463694\n",
      "https://www.flipkart.com/oneplus-nord-ce-2-lite-5g-blue-tide-128-gb/p/itm7acae55b999e6?pid=MOBGMFREBAHZQGY9&lid=LSTMOBGMFREBAHZQGY9EG6XMP&marketplace=FLIPKART&store=tyy%2F4io&otracker=browse&fm=organic&iid=17359e1e-b974-4b94-9054-82d4fee54f98.MOBGMFREBAHZQGY9.SEARCH&ppt=None&ppn=None&ssid=ooxktb02og0000001703233463694\n",
      "https://www.flipkart.com/poco-c51-locked-airtel-prepaid-royal-blue-64-gb/p/itm795e693024fbb?pid=MOBGQTDP5DGSNS7Q&lid=LSTMOBGQTDP5DGSNS7QYVHTJC&marketplace=FLIPKART&store=tyy%2F4io&otracker=browse&fm=organic&iid=17359e1e-b974-4b94-9054-82d4fee54f98.MOBGQTDP5DGSNS7Q.SEARCH&ppt=None&ppn=None&ssid=ooxktb02og0000001703233463694\n",
      "https://www.flipkart.com/motorola-g54-5g-midnight-blue-128-gb/p/itm1867d5933e9e8?pid=MOBGQFX8P4HFEUCD&lid=LSTMOBGQFX8P4HFEUCDCDMGCN&marketplace=FLIPKART&store=tyy%2F4io&otracker=browse&fm=organic&iid=en_NWSuPasSbyPAX79WMhFMt-U58j0OkfCQOABP8pubkuPx8P2lKm0FTwNWj-wlA_O9L-5JhzfA5PsM-v_AfgCZTA%3D%3D&ppt=None&ppn=None&ssid=ooxktb02og0000001703233463694\n",
      "https://www.flipkart.com/motorola-g54-5g-mint-green-128-gb/p/itmfc12683043bbc?pid=MOBGQFX8Z3ZCDZZ7&lid=LSTMOBGQFX8Z3ZCDZZ7IWKPTX&marketplace=FLIPKART&store=tyy%2F4io&otracker=browse&fm=organic&iid=en_NWSuPasSbyPAX79WMhFMt-U58j0OkfCQOABP8pubkuNOSS2EdUFwmvAi6V5EayPV2hqxfYxei8jCO6irpyV9IQ%3D%3D&ppt=None&ppn=None&ssid=ooxktb02og0000001703233463694\n",
      "https://www.flipkart.com/samsung-galaxy-f14-5g-omg-black-128-gb/p/itmae94033406fb2?pid=MOBGNBFNE6KGXCCR&lid=LSTMOBGNBFNE6KGXCCRXLTXS7&marketplace=FLIPKART&store=tyy%2F4io&otracker=browse&fm=organic&iid=17359e1e-b974-4b94-9054-82d4fee54f98.MOBGNBFNE6KGXCCR.SEARCH&ppt=None&ppn=None&ssid=ooxktb02og0000001703233463694\n",
      "https://www.flipkart.com/poco-c55-forest-green-64-gb/p/itm8b99ef9bd674c?pid=MOBGMXSWFYZYWKTD&lid=LSTMOBGMXSWFYZYWKTDWKED3U&marketplace=FLIPKART&store=tyy%2F4io&otracker=browse&fm=organic&iid=17359e1e-b974-4b94-9054-82d4fee54f98.MOBGMXSWFYZYWKTD.SEARCH&ppt=None&ppn=None&ssid=ooxktb02og0000001703233463694\n",
      "https://www.flipkart.com/motorola-edge-40-neo-caneel-bay-128-gb/p/itm122f351a3a2a3?pid=MOBGQFX6K7YQJRSY&lid=LSTMOBGQFX6K7YQJRSY6BK1PK&marketplace=FLIPKART&store=tyy%2F4io&srno=b_1_1&otracker=browse&fm=organic&iid=en_k2-HXr9hgTjWhKIATkQjcnleDVMbi70ttT3IH5gJcBcxR1yBRshZ5ZynbPaOnaSTEf_enk9S_Uoozt-pkVFmwg%3D%3D&ppt=None&ppn=None&ssid=1yy49cpju80000001703233464312\n",
      "https://www.flipkart.com/motorola-edge-40-neo-caneel-bay-256-gb/p/itm55813a9671489?pid=MOBGQFX6APUFAPMS&lid=LSTMOBGQFX6APUFAPMSO5N7CJ&marketplace=FLIPKART&store=tyy%2F4io&srno=b_1_2&otracker=browse&fm=organic&iid=en_k2-HXr9hgTjWhKIATkQjcnleDVMbi70ttT3IH5gJcBeaa1BRQB3HNFXKT43OtcA5ajoJe4MVXJaCaq0rpPDrhA%3D%3D&ppt=None&ppn=None&ssid=1yy49cpju80000001703233464312\n",
      "https://www.flipkart.com/motorola-g54-5g-midnight-blue-128-gb/p/itm1867d5933e9e8?pid=MOBGQFX8P4HFEUCD&lid=LSTMOBGQFX8P4HFEUCDCDMGCN&marketplace=FLIPKART&store=tyy%2F4io&srno=b_1_3&otracker=browse&fm=organic&iid=f2674b9c-de09-451a-9f6f-c7ab90dcd441.MOBGQFX8P4HFEUCD.SEARCH&ppt=None&ppn=None&ssid=1yy49cpju80000001703233464312\n",
      "https://www.flipkart.com/motorola-g54-5g-mint-green-128-gb/p/itmfc12683043bbc?pid=MOBGQFX8Z3ZCDZZ7&lid=LSTMOBGQFX8Z3ZCDZZ7IWKPTX&marketplace=FLIPKART&store=tyy%2F4io&srno=b_1_4&otracker=browse&fm=organic&iid=f2674b9c-de09-451a-9f6f-c7ab90dcd441.MOBGQFX8Z3ZCDZZ7.SEARCH&ppt=None&ppn=None&ssid=1yy49cpju80000001703233464312\n",
      "https://www.flipkart.com/motorola-g54-5g-pearl-blue-128-gb/p/itm8d5c2baa065c6?pid=MOBGQFX8TMM555GW&lid=LSTMOBGQFX8TMM555GW2HGELZ&marketplace=FLIPKART&store=tyy%2F4io&srno=b_1_5&otracker=browse&fm=organic&iid=f2674b9c-de09-451a-9f6f-c7ab90dcd441.MOBGQFX8TMM555GW.SEARCH&ppt=None&ppn=None&ssid=1yy49cpju80000001703233464312\n",
      "https://www.flipkart.com/motorola-edge-40-neo-soothing-sea-128-gb/p/itmcfb87467e7d9a?pid=MOBGQFX6AG2JD2XT&lid=LSTMOBGQFX6AG2JD2XTSPSYR7&marketplace=FLIPKART&store=tyy%2F4io&srno=b_1_6&otracker=browse&fm=organic&iid=f2674b9c-de09-451a-9f6f-c7ab90dcd441.MOBGQFX6AG2JD2XT.SEARCH&ppt=None&ppn=None&ssid=1yy49cpju80000001703233464312\n",
      "https://www.flipkart.com/samsung-galaxy-f14-5g-goat-green-128-gb/p/itm032d1a69999cc?pid=MOBGNBFNDPGNJ7HY&lid=LSTMOBGNBFNDPGNJ7HYRCCFUH&marketplace=FLIPKART&store=tyy%2F4io&srno=b_1_7&otracker=browse&fm=organic&iid=f2674b9c-de09-451a-9f6f-c7ab90dcd441.MOBGNBFNDPGNJ7HY.SEARCH&ppt=None&ppn=None&ssid=1yy49cpju80000001703233464312\n",
      "https://www.flipkart.com/motorola-g84-5g-viva-magenta-256-gb/p/itmed938e33ffdf5?pid=MOBGQFX672GDDQAQ&lid=LSTMOBGQFX672GDDQAQSSIAM2&marketplace=FLIPKART&store=tyy%2F4io&srno=b_1_8&otracker=browse&fm=organic&iid=en_k2-HXr9hgTjWhKIATkQjcnleDVMbi70ttT3IH5gJcBfLM0nKBL0sA6T41X6dmyB48UDPZfbQZy0qgd5P9R7yRQ%3D%3D&ppt=None&ppn=None&ssid=1yy49cpju80000001703233464312\n",
      "https://www.flipkart.com/vivo-t2x-5g-aurora-gold-128-gb/p/itmcb8f0f6a85d5d?pid=MOBGZBFUFNDXSGHS&lid=LSTMOBGZBFUFNDXSGHS1WR15D&marketplace=FLIPKART&store=tyy%2F4io&spotlightTagId=BestsellerId_tyy%2F4io&srno=b_1_9&otracker=browse&fm=organic&iid=f2674b9c-de09-451a-9f6f-c7ab90dcd441.MOBGZBFUFNDXSGHS.SEARCH&ppt=None&ppn=None&ssid=1yy49cpju80000001703233464312\n",
      "https://www.flipkart.com/vivo-t2x-5g-glimmer-black-128-gb/p/itmcb8f0f6a85d5d?pid=MOBGZBFUF389GDMP&lid=LSTMOBGZBFUF389GDMPKCQWJ4&marketplace=FLIPKART&store=tyy%2F4io&srno=b_1_10&otracker=browse&fm=organic&iid=f2674b9c-de09-451a-9f6f-c7ab90dcd441.MOBGZBFUF389GDMP.SEARCH&ppt=None&ppn=None&ssid=1yy49cpju80000001703233464312\n",
      "https://www.flipkart.com/motorola-edge-40-neo-black-beauty-256-gb/p/itmd1cc863c7e37a?pid=MOBGQFX6FXEZ3GCE&lid=LSTMOBGQFX6FXEZ3GCE0MNO3C&marketplace=FLIPKART&store=tyy%2F4io&srno=b_1_11&otracker=browse&fm=organic&iid=en_k2-HXr9hgTjWhKIATkQjcnleDVMbi70ttT3IH5gJcBcUr0OOSXP3ZcCC7kyRXrtaCFYRZJbqGDiemLgHicc1_w%3D%3D&ppt=None&ppn=None&ssid=1yy49cpju80000001703233464312\n",
      "https://www.flipkart.com/motorola-edge-40-neo-soothing-sea-256-gb/p/itm5bd7da24f41ef?pid=MOBGQFX6H2H2UHFZ&lid=LSTMOBGQFX6H2H2UHFZML9ANG&marketplace=FLIPKART&store=tyy%2F4io&srno=b_1_12&otracker=browse&fm=organic&iid=en_k2-HXr9hgTjWhKIATkQjcnleDVMbi70ttT3IH5gJcBcIkWj06y96SVZ5bM5lqE1por6cjGCl8LWyk8Q413r5zw%3D%3D&ppt=None&ppn=None&ssid=1yy49cpju80000001703233464312\n",
      "https://www.flipkart.com/vivo-t2x-5g-marine-blue-128-gb/p/itmcb8f0f6a85d5d?pid=MOBGZBFU4HBKKFSN&lid=LSTMOBGZBFU4HBKKFSNRCJ28C&marketplace=FLIPKART&store=tyy%2F4io&spotlightTagId=BestsellerId_tyy%2F4io&srno=b_1_13&otracker=browse&fm=organic&iid=f2674b9c-de09-451a-9f6f-c7ab90dcd441.MOBGZBFU4HBKKFSN.SEARCH&ppt=None&ppn=None&ssid=1yy49cpju80000001703233464312\n",
      "https://www.flipkart.com/vivo-t2x-5g-glimmer-black-128-gb/p/itmcb8f0f6a85d5d?pid=MOBGZBFUZEMCKRGE&lid=LSTMOBGZBFUZEMCKRGEW3VLBC&marketplace=FLIPKART&store=tyy%2F4io&srno=b_1_14&otracker=browse&fm=organic&iid=f2674b9c-de09-451a-9f6f-c7ab90dcd441.MOBGZBFUZEMCKRGE.SEARCH&ppt=None&ppn=None&ssid=1yy49cpju80000001703233464312\n",
      "https://www.flipkart.com/vivo-t2x-5g-marine-blue-128-gb/p/itmcb8f0f6a85d5d?pid=MOBGZBFUZHRYUKVR&lid=LSTMOBGZBFUZHRYUKVRNME6VW&marketplace=FLIPKART&store=tyy%2F4io&srno=b_1_15&otracker=browse&fm=organic&iid=f2674b9c-de09-451a-9f6f-c7ab90dcd441.MOBGZBFUZHRYUKVR.SEARCH&ppt=None&ppn=None&ssid=1yy49cpju80000001703233464312\n",
      "https://www.flipkart.com/vivo-t2x-5g-aurora-gold-128-gb/p/itmcb8f0f6a85d5d?pid=MOBGZBFUSEFSWASX&lid=LSTMOBGZBFUSEFSWASX1YPF2N&marketplace=FLIPKART&store=tyy%2F4io&srno=b_1_16&otracker=browse&fm=organic&iid=f2674b9c-de09-451a-9f6f-c7ab90dcd441.MOBGZBFUSEFSWASX.SEARCH&ppt=None&ppn=None&ssid=1yy49cpju80000001703233464312\n",
      "https://www.flipkart.com/motorola-g84-5g-marshmallow-blue-256-gb/p/itm7807a599d2202?pid=MOBGQFX6CNRYHFGF&lid=LSTMOBGQFX6CNRYHFGFLFOXPA&marketplace=FLIPKART&store=tyy%2F4io&srno=b_1_17&otracker=browse&fm=organic&iid=en_k2-HXr9hgTjWhKIATkQjcnleDVMbi70ttT3IH5gJcBeXSpCinhy05BxB5j4_DGk77nkuszfuFkn1ijQmccnhQA%3D%3D&ppt=None&ppn=None&ssid=1yy49cpju80000001703233464312\n",
      "https://www.flipkart.com/motorola-g54-5g-mint-green-256-gb/p/itm9f608c1154160?pid=MOBGQFX8XGUATGRT&lid=LSTMOBGQFX8XGUATGRTPMN68O&marketplace=FLIPKART&store=tyy%2F4io&srno=b_1_18&otracker=browse&fm=organic&iid=en_k2-HXr9hgTjWhKIATkQjcnleDVMbi70ttT3IH5gJcBcdGHmVQ9UJ2syxFBnBR39WUlj3cpxZQaoumGiNT6nZtQ%3D%3D&ppt=None&ppn=None&ssid=1yy49cpju80000001703233464312\n",
      "https://www.flipkart.com/vivo-t2x-5g-marine-blue-128-gb/p/itmcb8f0f6a85d5d?pid=MOBGZBFUPTU7DNCA&lid=LSTMOBGZBFUPTU7DNCALOZWX1&marketplace=FLIPKART&store=tyy%2F4io&srno=b_1_19&otracker=browse&fm=organic&iid=f2674b9c-de09-451a-9f6f-c7ab90dcd441.MOBGZBFUPTU7DNCA.SEARCH&ppt=None&ppn=None&ssid=1yy49cpju80000001703233464312\n",
      "https://www.flipkart.com/vivo-t2x-5g-aurora-gold-128-gb/p/itmcb8f0f6a85d5d?pid=MOBGZBFUQMTHYHSH&lid=LSTMOBGZBFUQMTHYHSHQ0KBA5&marketplace=FLIPKART&store=tyy%2F4io&srno=b_1_20&otracker=browse&fm=organic&iid=f2674b9c-de09-451a-9f6f-c7ab90dcd441.MOBGZBFUQMTHYHSH.SEARCH&ppt=None&ppn=None&ssid=1yy49cpju80000001703233464312\n",
      "https://www.flipkart.com/motorola-g84-5g-midnight-blue-256-gb/p/itm30dd9d1ed8bb8?pid=MOBGQFX68CXMTSGK&lid=LSTMOBGQFX68CXMTSGKYSK1KB&marketplace=FLIPKART&store=tyy%2F4io&srno=b_1_21&otracker=browse&fm=organic&iid=en_k2-HXr9hgTjWhKIATkQjcnleDVMbi70ttT3IH5gJcBcQtrFxU5EcGGvUDtUDXr8Q5zt2cG2JyJxg0zju9BTegQ%3D%3D&ppt=None&ppn=None&ssid=1yy49cpju80000001703233464312\n",
      "https://www.flipkart.com/motorola-edge-40-neo-black-beauty-128-gb/p/itm01cc46d96a79f?pid=MOBGQFX6JGTWFSGD&lid=LSTMOBGQFX6JGTWFSGDB2AE0L&marketplace=FLIPKART&store=tyy%2F4io&srno=b_1_22&otracker=browse&fm=organic&iid=en_k2-HXr9hgTjWhKIATkQjcnleDVMbi70ttT3IH5gJcBcGriNJcDjZhy6Uf9XINq5AvDwUPTlQn_trVBizq7F6Cw%3D%3D&ppt=None&ppn=None&ssid=1yy49cpju80000001703233464312\n",
      "https://www.flipkart.com/vivo-t2x-5g-glimmer-black-128-gb/p/itmcb8f0f6a85d5d?pid=MOBGZBFUZDW5JHYW&lid=LSTMOBGZBFUZDW5JHYWRCDY5W&marketplace=FLIPKART&store=tyy%2F4io&srno=b_1_23&otracker=browse&fm=organic&iid=f2674b9c-de09-451a-9f6f-c7ab90dcd441.MOBGZBFUZDW5JHYW.SEARCH&ppt=None&ppn=None&ssid=1yy49cpju80000001703233464312\n",
      "https://www.flipkart.com/apple-iphone-14-blue-128-gb/p/itmdb77f40da6b6d?pid=MOBGHWFHSV7GUFWA&lid=LSTMOBGHWFHSV7GUFWAC4ZPNA&marketplace=FLIPKART&store=tyy%2F4io&srno=b_1_24&otracker=browse&fm=organic&iid=f2674b9c-de09-451a-9f6f-c7ab90dcd441.MOBGHWFHSV7GUFWA.SEARCH&ppt=None&ppn=None&ssid=1yy49cpju80000001703233464312\n"
     ]
    },
    {
     "name": "stdout",
     "output_type": "stream",
     "text": [
      "https://www.flipkart.com/motorola-edge-40-neo-caneel-bay-256-gb/p/itm55813a9671489?pid=MOBGQFX6APUFAPMS&lid=LSTMOBGQFX6APUFAPMSO5N7CJ&marketplace=FLIPKART&store=tyy%2F4io&srno=b_2_25&otracker=browse&fm=organic&iid=4b3d7f45-1437-4c30-a2a1-c550df759f9c.MOBGQFX6APUFAPMS.SEARCH&ppt=None&ppn=None&ssid=gr0rzs23hc0000001703233465080\n",
      "https://www.flipkart.com/motorola-g14-sky-blue-128-gb/p/itme6e3af09b1936?pid=MOBGQFX8XRKKCRWZ&lid=LSTMOBGQFX8XRKKCRWZNSQWTC&marketplace=FLIPKART&store=tyy%2F4io&srno=b_2_26&otracker=browse&fm=organic&iid=4b3d7f45-1437-4c30-a2a1-c550df759f9c.MOBGQFX8XRKKCRWZ.SEARCH&ppt=None&ppn=None&ssid=gr0rzs23hc0000001703233465080\n",
      "https://www.flipkart.com/motorola-edge-40-neo-caneel-bay-128-gb/p/itm122f351a3a2a3?pid=MOBGQFX6K7YQJRSY&lid=LSTMOBGQFX6K7YQJRSY6BK1PK&marketplace=FLIPKART&store=tyy%2F4io&srno=b_2_27&otracker=browse&fm=organic&iid=en_c8SU8jH0PCVdE8AwfRj1cv9UFFWfvWUj6tFis9fiqLbGmCkPgcM2D7fn8M5ZL3dPEf_enk9S_Uoozt-pkVFmwg%3D%3D&ppt=None&ppn=None&ssid=gr0rzs23hc0000001703233465080\n",
      "https://www.flipkart.com/motorola-g84-5g-viva-magenta-256-gb/p/itmed938e33ffdf5?pid=MOBGQFX672GDDQAQ&lid=LSTMOBGQFX672GDDQAQSSIAM2&marketplace=FLIPKART&store=tyy%2F4io&srno=b_2_28&otracker=browse&fm=organic&iid=en_c8SU8jH0PCVdE8AwfRj1cv9UFFWfvWUj6tFis9fiqLYwtRCKbpBDJ69ZSCmhJQyWuM0e2HrpZBG4kZOyYEMMYA%3D%3D&ppt=None&ppn=None&ssid=gr0rzs23hc0000001703233465080\n",
      "https://www.flipkart.com/samsung-galaxy-f14-5g-b-a-e-purple-128-gb/p/itmdc1c60aa887ff?pid=MOBGNBFNNZER2WZW&lid=LSTMOBGNBFNNZER2WZWDG8CJ0&marketplace=FLIPKART&store=tyy%2F4io&srno=b_2_29&otracker=browse&fm=organic&iid=4b3d7f45-1437-4c30-a2a1-c550df759f9c.MOBGNBFNNZER2WZW.SEARCH&ppt=None&ppn=None&ssid=gr0rzs23hc0000001703233465080\n",
      "https://www.flipkart.com/poco-c55-forest-green-64-gb/p/itm8b99ef9bd674c?pid=MOBGMXSWFYZYWKTD&lid=LSTMOBGMXSWFYZYWKTDWKED3U&marketplace=FLIPKART&store=tyy%2F4io&srno=b_2_30&otracker=browse&fm=organic&iid=4b3d7f45-1437-4c30-a2a1-c550df759f9c.MOBGMXSWFYZYWKTD.SEARCH&ppt=None&ppn=None&ssid=gr0rzs23hc0000001703233465080\n",
      "https://www.flipkart.com/motorola-edge-40-neo-black-beauty-256-gb/p/itmd1cc863c7e37a?pid=MOBGQFX6FXEZ3GCE&lid=LSTMOBGQFX6FXEZ3GCE0MNO3C&marketplace=FLIPKART&store=tyy%2F4io&srno=b_2_31&otracker=browse&fm=organic&iid=en_c8SU8jH0PCVdE8AwfRj1cv9UFFWfvWUj6tFis9fiqLZBHUUgA04EJDyxupfMWz_gUVsEn_N_UujvMzJ8CDfvvQ%3D%3D&ppt=None&ppn=None&ssid=gr0rzs23hc0000001703233465080\n",
      "https://www.flipkart.com/motorola-edge-40-neo-soothing-sea-128-gb/p/itmcfb87467e7d9a?pid=MOBGQFX6AG2JD2XT&lid=LSTMOBGQFX6AG2JD2XTSPSYR7&marketplace=FLIPKART&store=tyy%2F4io&srno=b_2_32&otracker=browse&fm=organic&iid=en_c8SU8jH0PCVdE8AwfRj1cv9UFFWfvWUj6tFis9fiqLYRZ7XujJWiSX-nYWvOao8URNeMKR1e5_GV63gXBCWp7A%3D%3D&ppt=None&ppn=None&ssid=gr0rzs23hc0000001703233465080\n",
      "https://www.flipkart.com/motorola-e13-aurora-green-64-gb/p/itmb52d8f826cd9a?pid=MOBGKHNBA55HDSZR&lid=LSTMOBGKHNBA55HDSZRHOAFME&marketplace=FLIPKART&store=tyy%2F4io&srno=b_2_33&otracker=browse&fm=organic&iid=4b3d7f45-1437-4c30-a2a1-c550df759f9c.MOBGKHNBA55HDSZR.SEARCH&ppt=None&ppn=None&ssid=gr0rzs23hc0000001703233465080\n",
      "https://www.flipkart.com/infinix-smart-8-hd-timber-black-64-gb/p/itm709d885ba6ac1?pid=MOBGVAPX8EG26HZW&lid=LSTMOBGVAPX8EG26HZW7NAQCU&marketplace=FLIPKART&store=tyy%2F4io&srno=b_2_34&otracker=browse&fm=organic&iid=4b3d7f45-1437-4c30-a2a1-c550df759f9c.MOBGVAPX8EG26HZW.SEARCH&ppt=None&ppn=None&ssid=gr0rzs23hc0000001703233465080\n",
      "https://www.flipkart.com/infinix-smart-8-hd-crystal-green-64-gb/p/itm709d885ba6ac1?pid=MOBGVAPXGPFUDHYK&lid=LSTMOBGVAPXGPFUDHYKXUDYPL&marketplace=FLIPKART&store=tyy%2F4io&srno=b_2_35&otracker=browse&fm=organic&iid=4b3d7f45-1437-4c30-a2a1-c550df759f9c.MOBGVAPXGPFUDHYK.SEARCH&ppt=None&ppn=None&ssid=gr0rzs23hc0000001703233465080\n",
      "https://www.flipkart.com/infinix-smart-8-hd-shiny-gold-64-gb/p/itm709d885ba6ac1?pid=MOBGVAPXG4WHFR9M&lid=LSTMOBGVAPXG4WHFR9MJIYCWG&marketplace=FLIPKART&store=tyy%2F4io&srno=b_2_36&otracker=browse&fm=organic&iid=4b3d7f45-1437-4c30-a2a1-c550df759f9c.MOBGVAPXG4WHFR9M.SEARCH&ppt=None&ppn=None&ssid=gr0rzs23hc0000001703233465080\n",
      "https://www.flipkart.com/motorola-edge-40-neo-soothing-sea-256-gb/p/itm5bd7da24f41ef?pid=MOBGQFX6H2H2UHFZ&lid=LSTMOBGQFX6H2H2UHFZML9ANG&marketplace=FLIPKART&store=tyy%2F4io&srno=b_2_37&otracker=browse&fm=organic&iid=en_c8SU8jH0PCVdE8AwfRj1cv9UFFWfvWUj6tFis9fiqLZ3L_a-j-GZtw71PV0SX0bJBVAzhcnBSqwspiUrIXcbQw%3D%3D&ppt=None&ppn=None&ssid=gr0rzs23hc0000001703233465080\n",
      "https://www.flipkart.com/motorola-g84-5g-marshmallow-blue-256-gb/p/itm7807a599d2202?pid=MOBGQFX6CNRYHFGF&lid=LSTMOBGQFX6CNRYHFGFLFOXPA&marketplace=FLIPKART&store=tyy%2F4io&srno=b_2_38&otracker=browse&fm=organic&iid=en_c8SU8jH0PCVdE8AwfRj1cv9UFFWfvWUj6tFis9fiqLYgyy5b5wgkRt0mpJKGxfJJHlAim2KasKoHPBVR4_uzsw%3D%3D&ppt=None&ppn=None&ssid=gr0rzs23hc0000001703233465080\n",
      "https://www.flipkart.com/apple-iphone-14-blue-256-gb/p/itm04dba659735c7?pid=MOBGHWFHD3XPKDPN&lid=LSTMOBGHWFHD3XPKDPNUH3TWL&marketplace=FLIPKART&store=tyy%2F4io&srno=b_2_39&otracker=browse&fm=organic&iid=4b3d7f45-1437-4c30-a2a1-c550df759f9c.MOBGHWFHD3XPKDPN.SEARCH&ppt=None&ppn=None&ssid=gr0rzs23hc0000001703233465080\n",
      "https://www.flipkart.com/poco-c51-power-black-64-gb/p/itm62bcd2634619e?pid=MOBGZCQFWM5HZHXX&lid=LSTMOBGZCQFWM5HZHXXVV2MKC&marketplace=FLIPKART&store=tyy%2F4io&srno=b_2_40&otracker=browse&fm=organic&iid=4b3d7f45-1437-4c30-a2a1-c550df759f9c.MOBGZCQFWM5HZHXX.SEARCH&ppt=None&ppn=None&ssid=gr0rzs23hc0000001703233465080\n",
      "https://www.flipkart.com/motorola-g54-5g-midnight-blue-128-gb/p/itm1867d5933e9e8?pid=MOBGQFX8P4HFEUCD&lid=LSTMOBGQFX8P4HFEUCDCDMGCN&marketplace=FLIPKART&store=tyy%2F4io&srno=b_2_41&otracker=browse&fm=organic&iid=en_c8SU8jH0PCVdE8AwfRj1cv9UFFWfvWUj6tFis9fiqLboDvwtgB3O2JPT0yijEkB1z-TUx5UeJLDD2CjKKCyYug%3D%3D&ppt=None&ppn=None&ssid=gr0rzs23hc0000001703233465080\n",
      "https://www.flipkart.com/motorola-g54-5g-mint-green-128-gb/p/itmfc12683043bbc?pid=MOBGQFX8Z3ZCDZZ7&lid=LSTMOBGQFX8Z3ZCDZZ7IWKPTX&marketplace=FLIPKART&store=tyy%2F4io&srno=b_2_42&otracker=browse&fm=organic&iid=en_c8SU8jH0PCVdE8AwfRj1cv9UFFWfvWUj6tFis9fiqLYhu0wkhb8NmUYw_myL3DgvKaPN6HfFlVMuKEclzlm1Bw%3D%3D&ppt=None&ppn=None&ssid=gr0rzs23hc0000001703233465080\n",
      "https://www.flipkart.com/realme-c51-carbon-black-64-gb/p/itm0e93bcb87927f?pid=MOBGSQGGZ7HQMEZD&lid=LSTMOBGSQGGZ7HQMEZDQMM5MX&marketplace=FLIPKART&store=tyy%2F4io&srno=b_2_43&otracker=browse&fm=organic&iid=4b3d7f45-1437-4c30-a2a1-c550df759f9c.MOBGSQGGZ7HQMEZD.SEARCH&ppt=None&ppn=None&ssid=gr0rzs23hc0000001703233465080\n",
      "https://www.flipkart.com/realme-c51-mint-green-64-gb/p/itm0e93bcb87927f?pid=MOBGSQGGC7NY4PXC&lid=LSTMOBGSQGGC7NY4PXCOCBP4E&marketplace=FLIPKART&store=tyy%2F4io&srno=b_2_44&otracker=browse&fm=organic&iid=4b3d7f45-1437-4c30-a2a1-c550df759f9c.MOBGSQGGC7NY4PXC.SEARCH&ppt=None&ppn=None&ssid=gr0rzs23hc0000001703233465080\n",
      "https://www.flipkart.com/motorola-edge-40-neo-black-beauty-128-gb/p/itm01cc46d96a79f?pid=MOBGQFX6JGTWFSGD&lid=LSTMOBGQFX6JGTWFSGDB2AE0L&marketplace=FLIPKART&store=tyy%2F4io&srno=b_2_45&otracker=browse&fm=organic&iid=4b3d7f45-1437-4c30-a2a1-c550df759f9c.MOBGQFX6JGTWFSGD.SEARCH&ppt=None&ppn=None&ssid=gr0rzs23hc0000001703233465080\n",
      "https://www.flipkart.com/poco-c55-cool-blue-128-gb/p/itm26aca9fd143ba?pid=MOBGMXSWJHRVUWFE&lid=LSTMOBGMXSWJHRVUWFESKZGEW&marketplace=FLIPKART&store=tyy%2F4io&srno=b_2_46&otracker=browse&fm=organic&iid=4b3d7f45-1437-4c30-a2a1-c550df759f9c.MOBGMXSWJHRVUWFE.SEARCH&ppt=None&ppn=None&ssid=gr0rzs23hc0000001703233465080\n",
      "https://www.flipkart.com/motorola-g54-5g-mint-green-256-gb/p/itm9f608c1154160?pid=MOBGQFX8XGUATGRT&lid=LSTMOBGQFX8XGUATGRTPMN68O&marketplace=FLIPKART&store=tyy%2F4io&srno=b_2_47&otracker=browse&fm=organic&iid=en_c8SU8jH0PCVdE8AwfRj1cv9UFFWfvWUj6tFis9fiqLbjKejZr28QPm95pR0vov8JUlj3cpxZQaoumGiNT6nZtQ%3D%3D&ppt=None&ppn=None&ssid=gr0rzs23hc0000001703233465080\n",
      "https://www.flipkart.com/motorola-g84-5g-midnight-blue-256-gb/p/itm30dd9d1ed8bb8?pid=MOBGQFX68CXMTSGK&lid=LSTMOBGQFX68CXMTSGKYSK1KB&marketplace=FLIPKART&store=tyy%2F4io&srno=b_2_48&otracker=browse&fm=organic&iid=en_c8SU8jH0PCVdE8AwfRj1cv9UFFWfvWUj6tFis9fiqLaS95eRqWg50FgbC0q5T3SX5zt2cG2JyJxg0zju9BTegQ%3D%3D&ppt=None&ppn=None&ssid=gr0rzs23hc0000001703233465080\n",
      "https://www.flipkart.com/infinix-hot-30i-marigold-128-gb/p/itm8b42a43b35895?pid=MOBGNPK2GNWPUGWW&lid=LSTMOBGNPK2GNWPUGWWWTPN01&marketplace=FLIPKART&store=tyy%2F4io&srno=b_4_73&otracker=browse&fm=organic&iid=af296942-7bbe-4a67-b577-30b5645931bc.MOBGNPK2GNWPUGWW.SEARCH&ppt=None&ppn=None&ssid=lg4qto74u80000001703233466135\n",
      "https://www.flipkart.com/poco-c51-power-black-128-gb/p/itma7b694266a136?pid=MOBGSPJPH3UZHMEQ&lid=LSTMOBGSPJPH3UZHMEQAWJ6LR&marketplace=FLIPKART&store=tyy%2F4io&srno=b_4_74&otracker=browse&fm=organic&iid=af296942-7bbe-4a67-b577-30b5645931bc.MOBGSPJPH3UZHMEQ.SEARCH&ppt=None&ppn=None&ssid=lg4qto74u80000001703233466135\n",
      "https://www.flipkart.com/samsung-galaxy-f13-sunrise-copper-64-gb/p/itm0d8c65ec17621?pid=MOBGENJWWRYSFC5P&lid=LSTMOBGENJWWRYSFC5PBBRVNA&marketplace=FLIPKART&store=tyy%2F4io&srno=b_4_75&otracker=browse&fm=organic&iid=af296942-7bbe-4a67-b577-30b5645931bc.MOBGENJWWRYSFC5P.SEARCH&ppt=None&ppn=None&ssid=lg4qto74u80000001703233466135\n",
      "https://www.flipkart.com/infinix-hot-30i-mirror-black-64-gb/p/itm8b42a43b35895?pid=MOBGNPK2QRUEBEHG&lid=LSTMOBGNPK2QRUEBEHGKBH4RF&marketplace=FLIPKART&store=tyy%2F4io&srno=b_4_76&otracker=browse&fm=organic&iid=af296942-7bbe-4a67-b577-30b5645931bc.MOBGNPK2QRUEBEHG.SEARCH&ppt=None&ppn=None&ssid=lg4qto74u80000001703233466135\n",
      "https://www.flipkart.com/motorola-edge-40-neo-caneel-bay-128-gb/p/itm122f351a3a2a3?pid=MOBGQFX6K7YQJRSY&lid=LSTMOBGQFX6K7YQJRSY6BK1PK&marketplace=FLIPKART&store=tyy%2F4io&srno=b_4_77&otracker=browse&fm=organic&iid=en_ofQQ7glL9qQg-f2FmN32hO1ZauNvHFOXKpHkR0caZM_gp3Tl-ElFYzLjiruyKzCMEf_enk9S_Uoozt-pkVFmwg%3D%3D&ppt=None&ppn=None&ssid=lg4qto74u80000001703233466135\n",
      "https://www.flipkart.com/motorola-edge-40-neo-caneel-bay-256-gb/p/itm55813a9671489?pid=MOBGQFX6APUFAPMS&lid=LSTMOBGQFX6APUFAPMSO5N7CJ&marketplace=FLIPKART&store=tyy%2F4io&srno=b_4_78&otracker=browse&fm=organic&iid=en_ofQQ7glL9qQg-f2FmN32hO1ZauNvHFOXKpHkR0caZM-EqG5eRuwpq_7_UF29YyaoajoJe4MVXJaCaq0rpPDrhA%3D%3D&ppt=None&ppn=None&ssid=lg4qto74u80000001703233466135\n",
      "https://www.flipkart.com/redmi-12-jade-black-128-gb/p/itmb7050ec01c09f?pid=MOBGRMFKTHKQSJEG&lid=LSTMOBGRMFKTHKQSJEGQK3FM2&marketplace=FLIPKART&store=tyy%2F4io&srno=b_4_79&otracker=browse&fm=organic&iid=af296942-7bbe-4a67-b577-30b5645931bc.MOBGRMFKTHKQSJEG.SEARCH&ppt=None&ppn=None&ssid=lg4qto74u80000001703233466135\n",
      "https://www.flipkart.com/infinix-hot-30i-diamond-white-64-gb/p/itm8b42a43b35895?pid=MOBGNPK4PTXGANTP&lid=LSTMOBGNPK4PTXGANTPXFOPAU&marketplace=FLIPKART&store=tyy%2F4io&srno=b_4_80&otracker=browse&fm=organic&iid=af296942-7bbe-4a67-b577-30b5645931bc.MOBGNPK4PTXGANTP.SEARCH&ppt=None&ppn=None&ssid=lg4qto74u80000001703233466135\n",
      "https://www.flipkart.com/motorola-g84-5g-viva-magenta-256-gb/p/itmed938e33ffdf5?pid=MOBGQFX672GDDQAQ&lid=LSTMOBGQFX672GDDQAQSSIAM2&marketplace=FLIPKART&store=tyy%2F4io&srno=b_4_81&otracker=browse&fm=organic&iid=en_ofQQ7glL9qQg-f2FmN32hO1ZauNvHFOXKpHkR0caZM9-8_T3CQEH6NJgHLslfHHVuM0e2HrpZBG4kZOyYEMMYA%3D%3D&ppt=None&ppn=None&ssid=lg4qto74u80000001703233466135\n",
      "https://www.flipkart.com/motorola-edge-40-neo-black-beauty-256-gb/p/itmd1cc863c7e37a?pid=MOBGQFX6FXEZ3GCE&lid=LSTMOBGQFX6FXEZ3GCE0MNO3C&marketplace=FLIPKART&store=tyy%2F4io&srno=b_4_82&otracker=browse&fm=organic&iid=en_ofQQ7glL9qQg-f2FmN32hO1ZauNvHFOXKpHkR0caZM9FJ16AA2zxuLFcB5wZs3fMUVsEn_N_UujvMzJ8CDfvvQ%3D%3D&ppt=None&ppn=None&ssid=lg4qto74u80000001703233466135\n",
      "https://www.flipkart.com/samsung-galaxy-f13-waterfall-blue-64-gb/p/itm583ef432b2b0c?pid=MOBGENJWBPFYJSFT&lid=LSTMOBGENJWBPFYJSFTP8FGOC&marketplace=FLIPKART&store=tyy%2F4io&spotlightTagId=BestsellerId_tyy%2F4io&srno=b_4_83&otracker=browse&fm=organic&iid=af296942-7bbe-4a67-b577-30b5645931bc.MOBGENJWBPFYJSFT.SEARCH&ppt=None&ppn=None&ssid=lg4qto74u80000001703233466135\n",
      "https://www.flipkart.com/poco-m6-pro-5g-forest-green-256-gb/p/itm5600e7d7f5ddc?pid=MOBGVGDQ5JZ9YX2G&lid=LSTMOBGVGDQ5JZ9YX2GMH9CUM&marketplace=FLIPKART&store=tyy%2F4io&srno=b_4_84&otracker=browse&fm=organic&iid=af296942-7bbe-4a67-b577-30b5645931bc.MOBGVGDQ5JZ9YX2G.SEARCH&ppt=None&ppn=None&ssid=lg4qto74u80000001703233466135\n",
      "https://www.flipkart.com/oneplus-nord-ce-3-lite-5g-pastel-lime-256-gb/p/itm2cd5a4e659035?pid=MOBGZJ3ZFQ8AKKRS&lid=LSTMOBGZJ3ZFQ8AKKRSNGWNCD&marketplace=FLIPKART&store=tyy%2F4io&srno=b_4_85&otracker=browse&fm=organic&iid=af296942-7bbe-4a67-b577-30b5645931bc.MOBGZJ3ZFQ8AKKRS.SEARCH&ppt=None&ppn=None&ssid=lg4qto74u80000001703233466135\n",
      "https://www.flipkart.com/apple-iphone-14-plus-starlight-128-gb/p/itmc922ddc8af349?pid=MOBGHWFHVCB2YZYR&lid=LSTMOBGHWFHVCB2YZYREG7ZLM&marketplace=FLIPKART&store=tyy%2F4io&srno=b_4_86&otracker=browse&fm=organic&iid=af296942-7bbe-4a67-b577-30b5645931bc.MOBGHWFHVCB2YZYR.SEARCH&ppt=None&ppn=None&ssid=lg4qto74u80000001703233466135\n",
      "https://www.flipkart.com/motorola-edge-40-neo-soothing-sea-128-gb/p/itmcfb87467e7d9a?pid=MOBGQFX6AG2JD2XT&lid=LSTMOBGQFX6AG2JD2XTSPSYR7&marketplace=FLIPKART&store=tyy%2F4io&srno=b_4_87&otracker=browse&fm=organic&iid=en_ofQQ7glL9qQg-f2FmN32hO1ZauNvHFOXKpHkR0caZM_8DxPZMXSTh8wUm2Y3pt3_RNeMKR1e5_GV63gXBCWp7A%3D%3D&ppt=None&ppn=None&ssid=lg4qto74u80000001703233466135\n",
      "https://www.flipkart.com/motorola-edge-40-neo-soothing-sea-256-gb/p/itm5bd7da24f41ef?pid=MOBGQFX6H2H2UHFZ&lid=LSTMOBGQFX6H2H2UHFZML9ANG&marketplace=FLIPKART&store=tyy%2F4io&srno=b_4_88&otracker=browse&fm=organic&iid=en_ofQQ7glL9qQg-f2FmN32hO1ZauNvHFOXKpHkR0caZM8-myN_5FYzgW96WPdtwMYIBVAzhcnBSqwspiUrIXcbQw%3D%3D&ppt=None&ppn=None&ssid=lg4qto74u80000001703233466135\n",
      "https://www.flipkart.com/poco-c65-matte-black-256-gb/p/itmd776f58809b28?pid=MOBGVVTXXYZHF5UM&lid=LSTMOBGVVTXXYZHF5UMGXNVBS&marketplace=FLIPKART&store=tyy%2F4io&srno=b_4_89&otracker=browse&fm=organic&iid=af296942-7bbe-4a67-b577-30b5645931bc.MOBGVVTXXYZHF5UM.SEARCH&ppt=None&ppn=None&ssid=lg4qto74u80000001703233466135\n",
      "https://www.flipkart.com/redmi-note-12-pro-5g-obsidian-black-256-gb/p/itm91af760b68910?pid=MOBGH2UVUGR9N5FW&lid=LSTMOBGH2UVUGR9N5FWGK3I2U&marketplace=FLIPKART&store=tyy%2F4io&srno=b_4_90&otracker=browse&fm=organic&iid=af296942-7bbe-4a67-b577-30b5645931bc.MOBGH2UVUGR9N5FW.SEARCH&ppt=None&ppn=None&ssid=lg4qto74u80000001703233466135\n",
      "https://www.flipkart.com/motorola-g84-5g-marshmallow-blue-256-gb/p/itm7807a599d2202?pid=MOBGQFX6CNRYHFGF&lid=LSTMOBGQFX6CNRYHFGFLFOXPA&marketplace=FLIPKART&store=tyy%2F4io&srno=b_4_91&otracker=browse&fm=organic&iid=en_ofQQ7glL9qQg-f2FmN32hO1ZauNvHFOXKpHkR0caZM_lmK_Zsh9zRAJP6PEkH_ZGHlAim2KasKoHPBVR4_uzsw%3D%3D&ppt=None&ppn=None&ssid=lg4qto74u80000001703233466135\n",
      "https://www.flipkart.com/motorola-g54-5g-midnight-blue-128-gb/p/itm1867d5933e9e8?pid=MOBGQFX8P4HFEUCD&lid=LSTMOBGQFX8P4HFEUCDCDMGCN&marketplace=FLIPKART&store=tyy%2F4io&srno=b_4_92&otracker=browse&fm=organic&iid=en_ofQQ7glL9qQg-f2FmN32hO1ZauNvHFOXKpHkR0caZM9zBkeFYpdZkj2i5As-r_xqz-TUx5UeJLDD2CjKKCyYug%3D%3D&ppt=None&ppn=None&ssid=lg4qto74u80000001703233466135\n",
      "https://www.flipkart.com/google-pixel-7-snow-128-gb/p/itm45d75002be0e7?pid=MOBGHW44PRZ8WP2M&lid=LSTMOBGHW44PRZ8WP2MLRJNPZ&marketplace=FLIPKART&store=tyy%2F4io&srno=b_4_93&otracker=browse&fm=organic&iid=af296942-7bbe-4a67-b577-30b5645931bc.MOBGHW44PRZ8WP2M.SEARCH&ppt=None&ppn=None&ssid=lg4qto74u80000001703233466135\n",
      "https://www.flipkart.com/google-pixel-7-lemongrass-128-gb/p/itm45d75002be0e7?pid=MOBGHW44ZSN5EPGU&lid=LSTMOBGHW44ZSN5EPGUVDQE3A&marketplace=FLIPKART&store=tyy%2F4io&srno=b_4_94&otracker=browse&fm=organic&iid=af296942-7bbe-4a67-b577-30b5645931bc.MOBGHW44ZSN5EPGU.SEARCH&ppt=None&ppn=None&ssid=lg4qto74u80000001703233466135\n",
      "https://www.flipkart.com/infinix-hot-30i-mirror-black-128-gb/p/itm8b42a43b35895?pid=MOBGNPK2U9WQFJZX&lid=LSTMOBGNPK2U9WQFJZXOPAJY7&marketplace=FLIPKART&store=tyy%2F4io&srno=b_4_95&otracker=browse&fm=organic&iid=af296942-7bbe-4a67-b577-30b5645931bc.MOBGNPK2U9WQFJZX.SEARCH&ppt=None&ppn=None&ssid=lg4qto74u80000001703233466135\n",
      "https://www.flipkart.com/oneplus-nord-ce-3-lite-5g-chromatic-gray-128-gb/p/itm2cd5a4e659035?pid=MOBGZJ42KHUZZKMN&lid=LSTMOBGZJ42KHUZZKMN4R7KTT&marketplace=FLIPKART&store=tyy%2F4io&srno=b_4_96&otracker=browse&fm=organic&iid=af296942-7bbe-4a67-b577-30b5645931bc.MOBGZJ42KHUZZKMN.SEARCH&ppt=None&ppn=None&ssid=lg4qto74u80000001703233466135\n"
     ]
    },
    {
     "name": "stdout",
     "output_type": "stream",
     "text": [
      "https://www.flipkart.com/motorola-edge-40-neo-caneel-bay-128-gb/p/itm122f351a3a2a3?pid=MOBGQFX6K7YQJRSY&lid=LSTMOBGQFX6K7YQJRSY6BK1PK&marketplace=FLIPKART&store=tyy%2F4io&srno=b_5_97&otracker=browse&fm=organic&iid=en_yHGimGHLkCkFOtum6apPIqC_Vn2kHQzrnimD4ckxGMR7ObQON9GMNV21RE6nzy9JEf_enk9S_Uoozt-pkVFmwg%3D%3D&ppt=None&ppn=None&ssid=u2iq0bkbbk0000001703233466865\n",
      "https://www.flipkart.com/motorola-edge-40-neo-caneel-bay-256-gb/p/itm55813a9671489?pid=MOBGQFX6APUFAPMS&lid=LSTMOBGQFX6APUFAPMSO5N7CJ&marketplace=FLIPKART&store=tyy%2F4io&srno=b_5_98&otracker=browse&fm=organic&iid=en_yHGimGHLkCkFOtum6apPIqC_Vn2kHQzrnimD4ckxGMS5SkJq0iAiHHZeBweOf35GajoJe4MVXJaCaq0rpPDrhA%3D%3D&ppt=None&ppn=None&ssid=u2iq0bkbbk0000001703233466865\n",
      "https://www.flipkart.com/poco-c65-pastel-blue-128-gb/p/itm496cf027e5826?pid=MOBGVVTXTQDGZ7JY&lid=LSTMOBGVVTXTQDGZ7JYJ1XDW1&marketplace=FLIPKART&store=tyy%2F4io&srno=b_5_99&otracker=browse&fm=organic&iid=2d9b3a7b-5831-456b-a6ac-dbafee0b9108.MOBGVVTXTQDGZ7JY.SEARCH&ppt=None&ppn=None&ssid=u2iq0bkbbk0000001703233466865\n",
      "https://www.flipkart.com/poco-c55-forest-green-128-gb/p/itm7ed4c1ff2689f?pid=MOBGMXSWCYATKHYR&lid=LSTMOBGMXSWCYATKHYRKSVQMR&marketplace=FLIPKART&store=tyy%2F4io&srno=b_5_100&otracker=browse&fm=organic&iid=2d9b3a7b-5831-456b-a6ac-dbafee0b9108.MOBGMXSWCYATKHYR.SEARCH&ppt=None&ppn=None&ssid=u2iq0bkbbk0000001703233466865\n",
      "https://www.flipkart.com/motorola-g84-5g-viva-magenta-256-gb/p/itmed938e33ffdf5?pid=MOBGQFX672GDDQAQ&lid=LSTMOBGQFX672GDDQAQSSIAM2&marketplace=FLIPKART&store=tyy%2F4io&srno=b_5_101&otracker=browse&fm=organic&iid=en_yHGimGHLkCkFOtum6apPIqC_Vn2kHQzrnimD4ckxGMRUueM9tKpI29g40qW9sagcuM0e2HrpZBG4kZOyYEMMYA%3D%3D&ppt=None&ppn=None&ssid=u2iq0bkbbk0000001703233466865\n",
      "https://www.flipkart.com/motorola-edge-40-neo-black-beauty-256-gb/p/itmd1cc863c7e37a?pid=MOBGQFX6FXEZ3GCE&lid=LSTMOBGQFX6FXEZ3GCE0MNO3C&marketplace=FLIPKART&store=tyy%2F4io&srno=b_5_102&otracker=browse&fm=organic&iid=en_yHGimGHLkCkFOtum6apPIqC_Vn2kHQzrnimD4ckxGMQgR2wI4Y2VM4Qt7QWqC40HUVsEn_N_UujvMzJ8CDfvvQ%3D%3D&ppt=None&ppn=None&ssid=u2iq0bkbbk0000001703233466865\n",
      "https://www.flipkart.com/motorola-g84-5g-marshmallow-blue-256-gb/p/itm7807a599d2202?pid=MOBGQFX6CNRYHFGF&lid=LSTMOBGQFX6CNRYHFGFLFOXPA&marketplace=FLIPKART&store=tyy%2F4io&srno=b_5_103&otracker=browse&fm=organic&iid=2d9b3a7b-5831-456b-a6ac-dbafee0b9108.MOBGQFX6CNRYHFGF.SEARCH&ppt=None&ppn=None&ssid=u2iq0bkbbk0000001703233466865\n",
      "https://www.flipkart.com/realme-11x-5g-purple-dawn-128-gb/p/itm07be1a2ff1a1b?pid=MOBGS2WFBDQBD2B4&lid=LSTMOBGS2WFBDQBD2B4EI4NMP&marketplace=FLIPKART&store=tyy%2F4io&srno=b_5_104&otracker=browse&fm=organic&iid=2d9b3a7b-5831-456b-a6ac-dbafee0b9108.MOBGS2WFBDQBD2B4.SEARCH&ppt=None&ppn=None&ssid=u2iq0bkbbk0000001703233466865\n",
      "https://www.flipkart.com/nokia-105-single-sim-keypad-mobile-phone-wireless-fm-radio/p/itm1e2206f816463?pid=MOBGQFVG9WPRN3TH&lid=LSTMOBGQFVG9WPRN3THKP7BSM&marketplace=FLIPKART&store=tyy%2F4io&srno=b_5_105&otracker=browse&fm=organic&iid=2d9b3a7b-5831-456b-a6ac-dbafee0b9108.MOBGQFVG9WPRN3TH.SEARCH&ppt=None&ppn=None&ssid=u2iq0bkbbk0000001703233466865\n",
      "https://www.flipkart.com/nokia-105-single-sim-keypad-mobile-phone-wireless-fm-radio/p/itm1e2206f816463?pid=MOBGQFVGYU2F5CYT&lid=LSTMOBGQFVGYU2F5CYTFHC23M&marketplace=FLIPKART&store=tyy%2F4io&srno=b_5_106&otracker=browse&fm=organic&iid=2d9b3a7b-5831-456b-a6ac-dbafee0b9108.MOBGQFVGYU2F5CYT.SEARCH&ppt=None&ppn=None&ssid=u2iq0bkbbk0000001703233466865\n",
      "https://www.flipkart.com/motorola-edge-40-neo-soothing-sea-128-gb/p/itmcfb87467e7d9a?pid=MOBGQFX6AG2JD2XT&lid=LSTMOBGQFX6AG2JD2XTSPSYR7&marketplace=FLIPKART&store=tyy%2F4io&srno=b_5_107&otracker=browse&fm=organic&iid=en_yHGimGHLkCkFOtum6apPIqC_Vn2kHQzrnimD4ckxGMSCDXl5GQLo92HgtDtcL6bORNeMKR1e5_GV63gXBCWp7A%3D%3D&ppt=None&ppn=None&ssid=u2iq0bkbbk0000001703233466865\n",
      "https://www.flipkart.com/motorola-edge-40-neo-soothing-sea-256-gb/p/itm5bd7da24f41ef?pid=MOBGQFX6H2H2UHFZ&lid=LSTMOBGQFX6H2H2UHFZML9ANG&marketplace=FLIPKART&store=tyy%2F4io&srno=b_5_108&otracker=browse&fm=organic&iid=en_yHGimGHLkCkFOtum6apPIqC_Vn2kHQzrnimD4ckxGMQ_O12ixU84t0lejrPHFHsOBVAzhcnBSqwspiUrIXcbQw%3D%3D&ppt=None&ppn=None&ssid=u2iq0bkbbk0000001703233466865\n",
      "https://www.flipkart.com/nokia-105-single-sim-keypad-mobile-phone-wireless-fm-radio/p/itm1e2206f816463?pid=MOBGQFVG6MXANY2Q&lid=LSTMOBGQFVG6MXANY2QAZSY9G&marketplace=FLIPKART&store=tyy%2F4io&srno=b_5_109&otracker=browse&fm=organic&iid=2d9b3a7b-5831-456b-a6ac-dbafee0b9108.MOBGQFVG6MXANY2Q.SEARCH&ppt=None&ppn=None&ssid=u2iq0bkbbk0000001703233466865\n",
      "https://www.flipkart.com/poco-c55-power-black-128-gb/p/itm52dfc91751293?pid=MOBGMXSWPMRNGVGW&lid=LSTMOBGMXSWPMRNGVGWJIL18S&marketplace=FLIPKART&store=tyy%2F4io&srno=b_5_110&otracker=browse&fm=organic&iid=2d9b3a7b-5831-456b-a6ac-dbafee0b9108.MOBGMXSWPMRNGVGW.SEARCH&ppt=None&ppn=None&ssid=u2iq0bkbbk0000001703233466865\n",
      "https://www.flipkart.com/motorola-g54-5g-midnight-blue-128-gb/p/itm1867d5933e9e8?pid=MOBGQFX8P4HFEUCD&lid=LSTMOBGQFX8P4HFEUCDCDMGCN&marketplace=FLIPKART&store=tyy%2F4io&srno=b_5_111&otracker=browse&fm=organic&iid=en_yHGimGHLkCkFOtum6apPIqC_Vn2kHQzrnimD4ckxGMS1PFK9y1DS09dx0lpi6ff2z-TUx5UeJLDD2CjKKCyYug%3D%3D&ppt=None&ppn=None&ssid=u2iq0bkbbk0000001703233466865\n",
      "https://www.flipkart.com/motorola-g54-5g-mint-green-128-gb/p/itmfc12683043bbc?pid=MOBGQFX8Z3ZCDZZ7&lid=LSTMOBGQFX8Z3ZCDZZ7IWKPTX&marketplace=FLIPKART&store=tyy%2F4io&srno=b_5_112&otracker=browse&fm=organic&iid=en_yHGimGHLkCkFOtum6apPIqC_Vn2kHQzrnimD4ckxGMSxJqvEMhmNf0xd8if-f03eKaPN6HfFlVMuKEclzlm1Bw%3D%3D&ppt=None&ppn=None&ssid=u2iq0bkbbk0000001703233466865\n",
      "https://www.flipkart.com/samsung-galaxy-f34-5g-electric-black-128-gb/p/itm85da260a1ae3c?pid=MOBGRZMYDDS8SBXZ&lid=LSTMOBGRZMYDDS8SBXZKIP6ZG&marketplace=FLIPKART&store=tyy%2F4io&srno=b_5_113&otracker=browse&fm=organic&iid=2d9b3a7b-5831-456b-a6ac-dbafee0b9108.MOBGRZMYDDS8SBXZ.SEARCH&ppt=None&ppn=None&ssid=u2iq0bkbbk0000001703233466865\n",
      "https://www.flipkart.com/oneplus-nord-ce-3-lite-5g-chromatic-gray-256-gb/p/itm2cd5a4e659035?pid=MOBGZJ45PS4AQ7BA&lid=LSTMOBGZJ45PS4AQ7BASHPAA2&marketplace=FLIPKART&store=tyy%2F4io&srno=b_5_114&otracker=browse&fm=organic&iid=2d9b3a7b-5831-456b-a6ac-dbafee0b9108.MOBGZJ45PS4AQ7BA.SEARCH&ppt=None&ppn=None&ssid=u2iq0bkbbk0000001703233466865\n",
      "https://www.flipkart.com/samsung-galaxy-f34-5g-orchid-violet-128-gb/p/itm97f82a0acbe1f?pid=MOBGRZMYGSVHDBGJ&lid=LSTMOBGRZMYGSVHDBGJ3I9H32&marketplace=FLIPKART&store=tyy%2F4io&srno=b_5_115&otracker=browse&fm=organic&iid=2d9b3a7b-5831-456b-a6ac-dbafee0b9108.MOBGRZMYGSVHDBGJ.SEARCH&ppt=None&ppn=None&ssid=u2iq0bkbbk0000001703233466865\n",
      "https://www.flipkart.com/samsung-galaxy-f34-5g-mystic-green-128-gb/p/itmf0f86e1d0d3b1?pid=MOBGRZMYFH8MY6E2&lid=LSTMOBGRZMYFH8MY6E2JVJ8UT&marketplace=FLIPKART&store=tyy%2F4io&srno=b_5_116&otracker=browse&fm=organic&iid=2d9b3a7b-5831-456b-a6ac-dbafee0b9108.MOBGRZMYFH8MY6E2.SEARCH&ppt=None&ppn=None&ssid=u2iq0bkbbk0000001703233466865\n",
      "https://www.flipkart.com/motorola-g54-5g-mint-green-256-gb/p/itm9f608c1154160?pid=MOBGQFX8XGUATGRT&lid=LSTMOBGQFX8XGUATGRTPMN68O&marketplace=FLIPKART&store=tyy%2F4io&srno=b_5_117&otracker=browse&fm=organic&iid=en_yHGimGHLkCkFOtum6apPIqC_Vn2kHQzrnimD4ckxGMSBZMDJWe8zxUI3kPh1r7VOUlj3cpxZQaoumGiNT6nZtQ%3D%3D&ppt=None&ppn=None&ssid=u2iq0bkbbk0000001703233466865\n",
      "https://www.flipkart.com/motorola-g84-5g-midnight-blue-256-gb/p/itm30dd9d1ed8bb8?pid=MOBGQFX68CXMTSGK&lid=LSTMOBGQFX68CXMTSGKYSK1KB&marketplace=FLIPKART&store=tyy%2F4io&srno=b_5_118&otracker=browse&fm=organic&iid=en_yHGimGHLkCkFOtum6apPIqC_Vn2kHQzrnimD4ckxGMS-dnawOJKVyFzXVpu5xPY35zt2cG2JyJxg0zju9BTegQ%3D%3D&ppt=None&ppn=None&ssid=u2iq0bkbbk0000001703233466865\n",
      "https://www.flipkart.com/apple-iphone-14-plus-blue-128-gb/p/itmac8385391b02b?pid=MOBGHWFHUYWGB5F2&lid=LSTMOBGHWFHUYWGB5F2XIJVA7&marketplace=FLIPKART&store=tyy%2F4io&srno=b_5_119&otracker=browse&fm=organic&iid=2d9b3a7b-5831-456b-a6ac-dbafee0b9108.MOBGHWFHUYWGB5F2.SEARCH&ppt=None&ppn=None&ssid=u2iq0bkbbk0000001703233466865\n",
      "https://www.flipkart.com/samsung-galaxy-s22-5g-phantom-white-128-gb/p/itm93d0fc4af3e10?pid=MOBGGG2YBHNYTAFZ&lid=LSTMOBGGG2YBHNYTAFZAOFKPA&marketplace=FLIPKART&store=tyy%2F4io&srno=b_5_120&otracker=browse&fm=organic&iid=2d9b3a7b-5831-456b-a6ac-dbafee0b9108.MOBGGG2YBHNYTAFZ.SEARCH&ppt=None&ppn=None&ssid=u2iq0bkbbk0000001703233466865\n"
     ]
    },
    {
     "name": "stdout",
     "output_type": "stream",
     "text": [
      "https://www.flipkart.com/motorola-edge-40-neo-caneel-bay-256-gb/p/itm55813a9671489?pid=MOBGQFX6APUFAPMS&lid=LSTMOBGQFX6APUFAPMSO5N7CJ&marketplace=FLIPKART&store=tyy%2F4io&srno=b_6_121&otracker=browse&fm=organic&iid=en_hPx6PJV_V6HuwiR59B8lKEcmJPz0rTqrbYI1j_TL1SLmKlYa3F0cOMFfcWFtIE5EajoJe4MVXJaCaq0rpPDrhA%3D%3D&ppt=None&ppn=None&ssid=od731va6c00000001703233467554\n",
      "https://www.flipkart.com/motorola-edge-40-neo-black-beauty-256-gb/p/itmd1cc863c7e37a?pid=MOBGQFX6FXEZ3GCE&lid=LSTMOBGQFX6FXEZ3GCE0MNO3C&marketplace=FLIPKART&store=tyy%2F4io&srno=b_6_122&otracker=browse&fm=organic&iid=en_hPx6PJV_V6HuwiR59B8lKEcmJPz0rTqrbYI1j_TL1SKhMn8AdE4tm_6Ryj4WnBrXUVsEn_N_UujvMzJ8CDfvvQ%3D%3D&ppt=None&ppn=None&ssid=od731va6c00000001703233467554\n",
      "https://www.flipkart.com/realme-11-pro-5g-sunrise-beige-256-gb/p/itm5647cce338e55?pid=MOBGPU8HQPGU7HVR&lid=LSTMOBGPU8HQPGU7HVRYDHQ4Y&marketplace=FLIPKART&store=tyy%2F4io&srno=b_6_123&otracker=browse&fm=organic&iid=56d95c53-e26c-4f4b-a173-f47fd005a1d9.MOBGPU8HQPGU7HVR.SEARCH&ppt=None&ppn=None&ssid=od731va6c00000001703233467554\n",
      "https://www.flipkart.com/poco-m6-pro-5g-power-black-256-gb/p/itme40c1e1538153?pid=MOBGVGDQ5MV3HPEZ&lid=LSTMOBGVGDQ5MV3HPEZ6BAJSL&marketplace=FLIPKART&store=tyy%2F4io&srno=b_6_124&otracker=browse&fm=organic&iid=56d95c53-e26c-4f4b-a173-f47fd005a1d9.MOBGVGDQ5MV3HPEZ.SEARCH&ppt=None&ppn=None&ssid=od731va6c00000001703233467554\n",
      "https://www.flipkart.com/redmi-12-moonstone-silver-128-gb/p/itm6722b15672602?pid=MOBGRMFK4CSR7GGH&lid=LSTMOBGRMFK4CSR7GGHQLQFHC&marketplace=FLIPKART&store=tyy%2F4io&srno=b_6_125&otracker=browse&fm=organic&iid=56d95c53-e26c-4f4b-a173-f47fd005a1d9.MOBGRMFK4CSR7GGH.SEARCH&ppt=None&ppn=None&ssid=od731va6c00000001703233467554\n",
      "https://www.flipkart.com/redmi-12-jade-black-128-gb/p/itm7b10fd42f78b2?pid=MOBGRMFKKDQ2A3V4&lid=LSTMOBGRMFKKDQ2A3V4XZOVEW&marketplace=FLIPKART&store=tyy%2F4io&srno=b_6_126&otracker=browse&fm=organic&iid=56d95c53-e26c-4f4b-a173-f47fd005a1d9.MOBGRMFKKDQ2A3V4.SEARCH&ppt=None&ppn=None&ssid=od731va6c00000001703233467554\n",
      "https://www.flipkart.com/motorola-edge-40-neo-soothing-sea-256-gb/p/itm5bd7da24f41ef?pid=MOBGQFX6H2H2UHFZ&lid=LSTMOBGQFX6H2H2UHFZML9ANG&marketplace=FLIPKART&store=tyy%2F4io&srno=b_6_127&otracker=browse&fm=organic&iid=en_hPx6PJV_V6HuwiR59B8lKEcmJPz0rTqrbYI1j_TL1SL-iLZNOqVAXm3M8-fyK5sRBVAzhcnBSqwspiUrIXcbQw%3D%3D&ppt=None&ppn=None&ssid=od731va6c00000001703233467554\n",
      "https://www.flipkart.com/motorola-edge-40-neo-caneel-bay-128-gb/p/itm122f351a3a2a3?pid=MOBGQFX6K7YQJRSY&lid=LSTMOBGQFX6K7YQJRSY6BK1PK&marketplace=FLIPKART&store=tyy%2F4io&srno=b_6_128&otracker=browse&fm=organic&iid=en_hPx6PJV_V6HuwiR59B8lKEcmJPz0rTqrbYI1j_TL1SKuNMaIje-TERYaxSpXlSXgEf_enk9S_Uoozt-pkVFmwg%3D%3D&ppt=None&ppn=None&ssid=od731va6c00000001703233467554\n",
      "https://www.flipkart.com/redmi-12-5g-moonstone-silver-128-gb/p/itm0c8ba13f6fc5b?pid=MOBGS7JGZBZKPGGB&lid=LSTMOBGS7JGZBZKPGGB6GERTH&marketplace=FLIPKART&store=tyy%2F4io&srno=b_6_129&otracker=browse&fm=organic&iid=56d95c53-e26c-4f4b-a173-f47fd005a1d9.MOBGS7JGZBZKPGGB.SEARCH&ppt=None&ppn=None&ssid=od731va6c00000001703233467554\n",
      "https://www.flipkart.com/samsung-galaxy-s22-5g-green-128-gb/p/itm92c75094f3b93?pid=MOBGGG2YKYPWPCNP&lid=LSTMOBGGG2YKYPWPCNPJQJIS6&marketplace=FLIPKART&store=tyy%2F4io&srno=b_6_130&otracker=browse&fm=organic&iid=56d95c53-e26c-4f4b-a173-f47fd005a1d9.MOBGGG2YKYPWPCNP.SEARCH&ppt=None&ppn=None&ssid=od731va6c00000001703233467554\n",
      "https://www.flipkart.com/motorola-edge-40-neo-soothing-sea-128-gb/p/itmcfb87467e7d9a?pid=MOBGQFX6AG2JD2XT&lid=LSTMOBGQFX6AG2JD2XTSPSYR7&marketplace=FLIPKART&store=tyy%2F4io&srno=b_6_131&otracker=browse&fm=organic&iid=en_hPx6PJV_V6HuwiR59B8lKEcmJPz0rTqrbYI1j_TL1SKLibYrrSi7H5kMoErZw83ARNeMKR1e5_GV63gXBCWp7A%3D%3D&ppt=None&ppn=None&ssid=od731va6c00000001703233467554\n",
      "https://www.flipkart.com/motorola-g84-5g-viva-magenta-256-gb/p/itmed938e33ffdf5?pid=MOBGQFX672GDDQAQ&lid=LSTMOBGQFX672GDDQAQSSIAM2&marketplace=FLIPKART&store=tyy%2F4io&srno=b_6_132&otracker=browse&fm=organic&iid=en_hPx6PJV_V6HuwiR59B8lKEcmJPz0rTqrbYI1j_TL1SJiFSh8KOVsWfD0gKbc8ruTuM0e2HrpZBG4kZOyYEMMYA%3D%3D&ppt=None&ppn=None&ssid=od731va6c00000001703233467554\n",
      "https://www.flipkart.com/poco-x5-pro-5g-horizon-blue-128-gb/p/itm4cef23ac6a3f8?pid=MOBGMDKQBTFQUYDX&lid=LSTMOBGMDKQBTFQUYDXFT9AZO&marketplace=FLIPKART&store=tyy%2F4io&srno=b_6_133&otracker=browse&fm=organic&iid=56d95c53-e26c-4f4b-a173-f47fd005a1d9.MOBGMDKQBTFQUYDX.SEARCH&ppt=None&ppn=None&ssid=od731va6c00000001703233467554\n",
      "https://www.flipkart.com/poco-x5-5g-supernova-green-256-gb/p/itm275923a52e6c2?pid=MOBGNBFBABFZR3UR&lid=LSTMOBGNBFBABFZR3URHDBBIS&marketplace=FLIPKART&store=tyy%2F4io&srno=b_6_134&otracker=browse&fm=organic&iid=56d95c53-e26c-4f4b-a173-f47fd005a1d9.MOBGNBFBABFZR3UR.SEARCH&ppt=None&ppn=None&ssid=od731va6c00000001703233467554\n",
      "https://www.flipkart.com/realme-c55-rainforest-64-gb/p/itm054283d14c56e?pid=MOBGNBYJTZYZJZM5&lid=LSTMOBGNBYJTZYZJZM58JKCAH&marketplace=FLIPKART&store=tyy%2F4io&srno=b_6_135&otracker=browse&fm=organic&iid=56d95c53-e26c-4f4b-a173-f47fd005a1d9.MOBGNBYJTZYZJZM5.SEARCH&ppt=None&ppn=None&ssid=od731va6c00000001703233467554\n",
      "https://www.flipkart.com/redmi-12-5g-jade-black-128-gb/p/itm0c8ba13f6fc5b?pid=MOBGS9QU7QVWUWRD&lid=LSTMOBGS9QU7QVWUWRDLK4QDT&marketplace=FLIPKART&store=tyy%2F4io&srno=b_6_136&otracker=browse&fm=organic&iid=56d95c53-e26c-4f4b-a173-f47fd005a1d9.MOBGS9QU7QVWUWRD.SEARCH&ppt=None&ppn=None&ssid=od731va6c00000001703233467554\n",
      "https://www.flipkart.com/motorola-g84-5g-marshmallow-blue-256-gb/p/itm7807a599d2202?pid=MOBGQFX6CNRYHFGF&lid=LSTMOBGQFX6CNRYHFGFLFOXPA&marketplace=FLIPKART&store=tyy%2F4io&srno=b_6_137&otracker=browse&fm=organic&iid=en_hPx6PJV_V6HuwiR59B8lKEcmJPz0rTqrbYI1j_TL1SJBgLXshZsp2k6R8gwgW25_HlAim2KasKoHPBVR4_uzsw%3D%3D&ppt=None&ppn=None&ssid=od731va6c00000001703233467554\n",
      "https://www.flipkart.com/motorola-edge-40-neo-black-beauty-128-gb/p/itm01cc46d96a79f?pid=MOBGQFX6JGTWFSGD&lid=LSTMOBGQFX6JGTWFSGDB2AE0L&marketplace=FLIPKART&store=tyy%2F4io&srno=b_6_138&otracker=browse&fm=organic&iid=en_hPx6PJV_V6HuwiR59B8lKEcmJPz0rTqrbYI1j_TL1SJRhGrdOIoRjk40JX6zLu4II6eDmINmgh8qysZRbsh8sA%3D%3D&ppt=None&ppn=None&ssid=od731va6c00000001703233467554\n",
      "https://www.flipkart.com/apple-iphone-15-blue-128-gb/p/itmbf14ef54f645d?pid=MOBGTAGPAQNVFZZY&lid=LSTMOBGTAGPAQNVFZZYSCIIOB&marketplace=FLIPKART&store=tyy%2F4io&srno=b_6_139&otracker=browse&fm=organic&iid=56d95c53-e26c-4f4b-a173-f47fd005a1d9.MOBGTAGPAQNVFZZY.SEARCH&ppt=None&ppn=None&ssid=od731va6c00000001703233467554\n",
      "https://www.flipkart.com/realme-c55-rainy-night-128-gb/p/itm054283d14c56e?pid=MOBGNBYJZJEHR4QN&lid=LSTMOBGNBYJZJEHR4QNO7O0KI&marketplace=FLIPKART&store=tyy%2F4io&srno=b_6_140&otracker=browse&fm=organic&iid=56d95c53-e26c-4f4b-a173-f47fd005a1d9.MOBGNBYJZJEHR4QN.SEARCH&ppt=None&ppn=None&ssid=od731va6c00000001703233467554\n",
      "https://www.flipkart.com/motorola-g84-5g-midnight-blue-256-gb/p/itm30dd9d1ed8bb8?pid=MOBGQFX68CXMTSGK&lid=LSTMOBGQFX68CXMTSGKYSK1KB&marketplace=FLIPKART&store=tyy%2F4io&srno=b_6_141&otracker=browse&fm=organic&iid=en_hPx6PJV_V6HuwiR59B8lKEcmJPz0rTqrbYI1j_TL1SJcC9T4MYCEtNtFXN1Dx0w24Pg6_KKMRcMqffTmFAG3yw%3D%3D&ppt=None&ppn=None&ssid=od731va6c00000001703233467554\n",
      "https://www.flipkart.com/motorola-g54-5g-mint-green-256-gb/p/itm9f608c1154160?pid=MOBGQFX8XGUATGRT&lid=LSTMOBGQFX8XGUATGRTPMN68O&marketplace=FLIPKART&store=tyy%2F4io&srno=b_6_142&otracker=browse&fm=organic&iid=en_hPx6PJV_V6HuwiR59B8lKEcmJPz0rTqrbYI1j_TL1SInJ21ZpM19KapDjEysE_E5Ulj3cpxZQaoumGiNT6nZtQ%3D%3D&ppt=None&ppn=None&ssid=od731va6c00000001703233467554\n",
      "https://www.flipkart.com/realme-c55-sunshower-128-gb/p/itm054283d14c56e?pid=MOBGNBYJUA2G5HK4&lid=LSTMOBGNBYJUA2G5HK40FPVVJ&marketplace=FLIPKART&store=tyy%2F4io&srno=b_6_143&otracker=browse&fm=organic&iid=56d95c53-e26c-4f4b-a173-f47fd005a1d9.MOBGNBYJUA2G5HK4.SEARCH&ppt=None&ppn=None&ssid=od731va6c00000001703233467554\n",
      "https://www.flipkart.com/infinix-note-30-5g-magic-black-256-gb/p/itm12c179f0a6281?pid=MOBGQ9HPEZKFHZFQ&lid=LSTMOBGQ9HPEZKFHZFQUVHIKF&marketplace=FLIPKART&store=tyy%2F4io&srno=b_6_144&otracker=browse&fm=organic&iid=56d95c53-e26c-4f4b-a173-f47fd005a1d9.MOBGQ9HPEZKFHZFQ.SEARCH&ppt=None&ppn=None&ssid=od731va6c00000001703233467554\n",
      "https://www.flipkart.com/samsung-galaxy-m14-5g-icy-silver-128-gb/p/itme53601886b5d9?pid=MOBGZWRQNHGDF7SA&lid=LSTMOBGZWRQNHGDF7SAXDBTTA&marketplace=FLIPKART&store=tyy%2F4io&srno=b_7_145&otracker=browse&fm=organic&iid=d05aad2d-86f7-4d68-80b8-8f780f4c513d.MOBGZWRQNHGDF7SA.SEARCH&ppt=None&ppn=None&ssid=nolaz1r7sw0000001703233468252\n",
      "https://www.flipkart.com/nothing-phone-2-dark-grey-512-gb/p/itmc1490711c3eb9?pid=MOBGZSDKJSFH7GZT&lid=LSTMOBGZSDKJSFH7GZT0NUNZF&marketplace=FLIPKART&store=tyy%2F4io&srno=b_7_146&otracker=browse&fm=organic&iid=d05aad2d-86f7-4d68-80b8-8f780f4c513d.MOBGZSDKJSFH7GZT.SEARCH&ppt=None&ppn=None&ssid=nolaz1r7sw0000001703233468252\n",
      "https://www.flipkart.com/motorola-edge-40-neo-caneel-bay-128-gb/p/itm122f351a3a2a3?pid=MOBGQFX6K7YQJRSY&lid=LSTMOBGQFX6K7YQJRSY6BK1PK&marketplace=FLIPKART&store=tyy%2F4io&srno=b_7_147&otracker=browse&fm=organic&iid=en_9OnPws2H-9IHG6nDOKVM_K52tb-dPRklwm6q88IAEqBYlQAv5rNcZ9Wi1sisCsyVEf_enk9S_Uoozt-pkVFmwg%3D%3D&ppt=None&ppn=None&ssid=nolaz1r7sw0000001703233468252\n",
      "https://www.flipkart.com/motorola-edge-40-neo-caneel-bay-256-gb/p/itm55813a9671489?pid=MOBGQFX6APUFAPMS&lid=LSTMOBGQFX6APUFAPMSO5N7CJ&marketplace=FLIPKART&store=tyy%2F4io&srno=b_7_148&otracker=browse&fm=organic&iid=en_9OnPws2H-9IHG6nDOKVM_K52tb-dPRklwm6q88IAEqAU708GSo6Q-8eD9wdbU-hgajoJe4MVXJaCaq0rpPDrhA%3D%3D&ppt=None&ppn=None&ssid=nolaz1r7sw0000001703233468252\n",
      "https://www.flipkart.com/samsung-galaxy-s21-fe-5g-graphite-128-gb/p/itm7be0f72fff180?pid=MOBGBPFZSPRG8GSU&lid=LSTMOBGBPFZSPRG8GSUHAU48C&marketplace=FLIPKART&store=tyy%2F4io&srno=b_7_149&otracker=browse&fm=organic&iid=d05aad2d-86f7-4d68-80b8-8f780f4c513d.MOBGBPFZSPRG8GSU.SEARCH&ppt=None&ppn=None&ssid=nolaz1r7sw0000001703233468252\n",
      "https://www.flipkart.com/infinix-hot-30i-marigold-128-gb/p/itm8b42a43b35895?pid=MOBGNPK2GNWPUGWW&lid=LSTMOBGNPK2GNWPUGWWWTPN01&marketplace=FLIPKART&store=tyy%2F4io&srno=b_7_150&otracker=browse&fm=organic&iid=d05aad2d-86f7-4d68-80b8-8f780f4c513d.MOBGNPK2GNWPUGWW.SEARCH&ppt=None&ppn=None&ssid=nolaz1r7sw0000001703233468252\n",
      "https://www.flipkart.com/motorola-g84-5g-viva-magenta-256-gb/p/itmed938e33ffdf5?pid=MOBGQFX672GDDQAQ&lid=LSTMOBGQFX672GDDQAQSSIAM2&marketplace=FLIPKART&store=tyy%2F4io&srno=b_7_151&otracker=browse&fm=organic&iid=en_9OnPws2H-9IHG6nDOKVM_K52tb-dPRklwm6q88IAEqBZ82jhWwh-yauNgJVckK-6uM0e2HrpZBG4kZOyYEMMYA%3D%3D&ppt=None&ppn=None&ssid=nolaz1r7sw0000001703233468252\n",
      "https://www.flipkart.com/motorola-edge-40-neo-black-beauty-256-gb/p/itmd1cc863c7e37a?pid=MOBGQFX6FXEZ3GCE&lid=LSTMOBGQFX6FXEZ3GCE0MNO3C&marketplace=FLIPKART&store=tyy%2F4io&srno=b_7_152&otracker=browse&fm=organic&iid=en_9OnPws2H-9IHG6nDOKVM_K52tb-dPRklwm6q88IAEqCZIHfJC1wNxGg82HfT2_8qUVsEn_N_UujvMzJ8CDfvvQ%3D%3D&ppt=None&ppn=None&ssid=nolaz1r7sw0000001703233468252\n",
      "https://www.flipkart.com/redmi-a2-sea-green-64-gb/p/itm5ac4b1d081b30?pid=MOBGRHB7GUUZG3QH&lid=LSTMOBGRHB7GUUZG3QHDSUSUY&marketplace=FLIPKART&store=tyy%2F4io&srno=b_7_153&otracker=browse&fm=organic&iid=d05aad2d-86f7-4d68-80b8-8f780f4c513d.MOBGRHB7GUUZG3QH.SEARCH&ppt=None&ppn=None&ssid=nolaz1r7sw0000001703233468252\n",
      "https://www.flipkart.com/poco-c65-matte-black-256-gb/p/itmd776f58809b28?pid=MOBGVVTXXYZHF5UM&lid=LSTMOBGVVTXXYZHF5UMGXNVBS&marketplace=FLIPKART&store=tyy%2F4io&srno=b_7_154&otracker=browse&fm=organic&iid=d05aad2d-86f7-4d68-80b8-8f780f4c513d.MOBGVVTXXYZHF5UM.SEARCH&ppt=None&ppn=None&ssid=nolaz1r7sw0000001703233468252\n",
      "https://www.flipkart.com/infinix-smart-7-azure-blue-128-gb/p/itm7b72b66485a59?pid=MOBGRH6Y386CENMX&lid=LSTMOBGRH6Y386CENMXT973RF&marketplace=FLIPKART&store=tyy%2F4io&srno=b_7_155&otracker=browse&fm=organic&iid=d05aad2d-86f7-4d68-80b8-8f780f4c513d.MOBGRH6Y386CENMX.SEARCH&ppt=None&ppn=None&ssid=nolaz1r7sw0000001703233468252\n",
      "https://www.flipkart.com/infinix-smart-7-emerald-green-64-gb/p/itm7b72b66485a59?pid=MOBGMTW2HFCMQY35&lid=LSTMOBGMTW2HFCMQY35R7FJQZ&marketplace=FLIPKART&store=tyy%2F4io&srno=b_7_156&otracker=browse&fm=organic&iid=d05aad2d-86f7-4d68-80b8-8f780f4c513d.MOBGMTW2HFCMQY35.SEARCH&ppt=None&ppn=None&ssid=nolaz1r7sw0000001703233468252\n",
      "https://www.flipkart.com/motorola-edge-40-neo-soothing-sea-128-gb/p/itmcfb87467e7d9a?pid=MOBGQFX6AG2JD2XT&lid=LSTMOBGQFX6AG2JD2XTSPSYR7&marketplace=FLIPKART&store=tyy%2F4io&srno=b_7_157&otracker=browse&fm=organic&iid=en_9OnPws2H-9IHG6nDOKVM_K52tb-dPRklwm6q88IAEqCyBPfrMcB7aJENh3qmfWGJRNeMKR1e5_GV63gXBCWp7A%3D%3D&ppt=None&ppn=None&ssid=nolaz1r7sw0000001703233468252\n",
      "https://www.flipkart.com/motorola-edge-40-neo-soothing-sea-256-gb/p/itm5bd7da24f41ef?pid=MOBGQFX6H2H2UHFZ&lid=LSTMOBGQFX6H2H2UHFZML9ANG&marketplace=FLIPKART&store=tyy%2F4io&srno=b_7_158&otracker=browse&fm=organic&iid=en_9OnPws2H-9IHG6nDOKVM_K52tb-dPRklwm6q88IAEqBXztP1qRF8HrJ6SgQda-MKBVAzhcnBSqwspiUrIXcbQw%3D%3D&ppt=None&ppn=None&ssid=nolaz1r7sw0000001703233468252\n",
      "https://www.flipkart.com/infinix-smart-7-azure-blue-64-gb/p/itm7b72b66485a59?pid=MOBGMTW2WYG2A2FM&lid=LSTMOBGMTW2WYG2A2FMAZGXKU&marketplace=FLIPKART&store=tyy%2F4io&srno=b_7_159&otracker=browse&fm=organic&iid=d05aad2d-86f7-4d68-80b8-8f780f4c513d.MOBGMTW2WYG2A2FM.SEARCH&ppt=None&ppn=None&ssid=nolaz1r7sw0000001703233468252\n",
      "https://www.flipkart.com/motorola-g84-5g-marshmallow-blue-256-gb/p/itm7807a599d2202?pid=MOBGQFX6CNRYHFGF&lid=LSTMOBGQFX6CNRYHFGFLFOXPA&marketplace=FLIPKART&store=tyy%2F4io&srno=b_7_160&otracker=browse&fm=organic&iid=d05aad2d-86f7-4d68-80b8-8f780f4c513d.MOBGQFX6CNRYHFGF.SEARCH&ppt=None&ppn=None&ssid=nolaz1r7sw0000001703233468252\n",
      "https://www.flipkart.com/motorola-g54-5g-midnight-blue-128-gb/p/itm1867d5933e9e8?pid=MOBGQFX8P4HFEUCD&lid=LSTMOBGQFX8P4HFEUCDCDMGCN&marketplace=FLIPKART&store=tyy%2F4io&srno=b_7_161&otracker=browse&fm=organic&iid=en_9OnPws2H-9IHG6nDOKVM_K52tb-dPRklwm6q88IAEqAZtQqOfxy4JO-7C8jOUpvWz-TUx5UeJLDD2CjKKCyYug%3D%3D&ppt=None&ppn=None&ssid=nolaz1r7sw0000001703233468252\n",
      "https://www.flipkart.com/motorola-g54-5g-mint-green-128-gb/p/itmfc12683043bbc?pid=MOBGQFX8Z3ZCDZZ7&lid=LSTMOBGQFX8Z3ZCDZZ7IWKPTX&marketplace=FLIPKART&store=tyy%2F4io&srno=b_7_162&otracker=browse&fm=organic&iid=en_9OnPws2H-9IHG6nDOKVM_K52tb-dPRklwm6q88IAEqAyhSa1GNTQVq1D3QUDqMSqKaPN6HfFlVMuKEclzlm1Bw%3D%3D&ppt=None&ppn=None&ssid=nolaz1r7sw0000001703233468252\n",
      "https://www.flipkart.com/infinix-smart-7-night-black-64-gb/p/itm7b72b66485a59?pid=MOBGMTW2T7W2UPB9&lid=LSTMOBGMTW2T7W2UPB99HTRS1&marketplace=FLIPKART&store=tyy%2F4io&srno=b_7_163&otracker=browse&fm=organic&iid=d05aad2d-86f7-4d68-80b8-8f780f4c513d.MOBGMTW2T7W2UPB9.SEARCH&ppt=None&ppn=None&ssid=nolaz1r7sw0000001703233468252\n",
      "https://www.flipkart.com/poco-c65-pastel-blue-128-gb/p/itm496cf027e5826?pid=MOBGVVTXTQDGZ7JY&lid=LSTMOBGVVTXTQDGZ7JYJ1XDW1&marketplace=FLIPKART&store=tyy%2F4io&srno=b_7_164&otracker=browse&fm=organic&iid=d05aad2d-86f7-4d68-80b8-8f780f4c513d.MOBGVVTXTQDGZ7JY.SEARCH&ppt=None&ppn=None&ssid=nolaz1r7sw0000001703233468252\n",
      "https://www.flipkart.com/motorola-g14-butter-cream-128-gb/p/itm1be445b42514c?pid=MOBGQFX8XAJ3KHZ2&lid=LSTMOBGQFX8XAJ3KHZ2C7C0YB&marketplace=FLIPKART&store=tyy%2F4io&srno=b_7_165&otracker=browse&fm=organic&iid=d05aad2d-86f7-4d68-80b8-8f780f4c513d.MOBGQFX8XAJ3KHZ2.SEARCH&ppt=None&ppn=None&ssid=nolaz1r7sw0000001703233468252\n",
      "https://www.flipkart.com/motorola-e13-little-boy-blue-128-gb/p/itm66c82f55a50c5?pid=MOBGR4J7YNRQY2BX&lid=LSTMOBGR4J7YNRQY2BXT3OR8Z&marketplace=FLIPKART&store=tyy%2F4io&srno=b_7_166&otracker=browse&fm=organic&iid=d05aad2d-86f7-4d68-80b8-8f780f4c513d.MOBGR4J7YNRQY2BX.SEARCH&ppt=None&ppn=None&ssid=nolaz1r7sw0000001703233468252\n",
      "https://www.flipkart.com/motorola-g54-5g-mint-green-256-gb/p/itm9f608c1154160?pid=MOBGQFX8XGUATGRT&lid=LSTMOBGQFX8XGUATGRTPMN68O&marketplace=FLIPKART&store=tyy%2F4io&srno=b_7_167&otracker=browse&fm=organic&iid=en_9OnPws2H-9IHG6nDOKVM_K52tb-dPRklwm6q88IAEqCbgNtacGB8RUiFo5WVVIe9Ulj3cpxZQaoumGiNT6nZtQ%3D%3D&ppt=None&ppn=None&ssid=nolaz1r7sw0000001703233468252\n",
      "https://www.flipkart.com/motorola-g84-5g-midnight-blue-256-gb/p/itm30dd9d1ed8bb8?pid=MOBGQFX68CXMTSGK&lid=LSTMOBGQFX68CXMTSGKYSK1KB&marketplace=FLIPKART&store=tyy%2F4io&srno=b_7_168&otracker=browse&fm=organic&iid=en_9OnPws2H-9IHG6nDOKVM_K52tb-dPRklwm6q88IAEqDn9C2UTv_sPcBwkI7NM3BO5zt2cG2JyJxg0zju9BTegQ%3D%3D&ppt=None&ppn=None&ssid=nolaz1r7sw0000001703233468252\n"
     ]
    },
    {
     "name": "stdout",
     "output_type": "stream",
     "text": [
      "https://www.flipkart.com/nokia-105-single-sim-keypad-mobile-phone-wireless-fm-radio/p/itm1e2206f816463?pid=MOBGQFVG6MXANY2Q&lid=LSTMOBGQFVG6MXANY2QAZSY9G&marketplace=FLIPKART&store=tyy%2F4io&srno=b_8_169&otracker=browse&fm=organic&iid=0fca584f-e20b-4ff6-abcf-f6ebd0caec35.MOBGQFVG6MXANY2Q.SEARCH&ppt=None&ppn=None&ssid=whmrr3qn7k0000001703233468832\n",
      "https://www.flipkart.com/samsung-galaxy-f34-5g-orchid-violet-128-gb/p/itm97f82a0acbe1f?pid=MOBGRZMYGSVHDBGJ&lid=LSTMOBGRZMYGSVHDBGJ3I9H32&marketplace=FLIPKART&store=tyy%2F4io&srno=b_8_170&otracker=browse&fm=organic&iid=0fca584f-e20b-4ff6-abcf-f6ebd0caec35.MOBGRZMYGSVHDBGJ.SEARCH&ppt=None&ppn=None&ssid=whmrr3qn7k0000001703233468832\n",
      "https://www.flipkart.com/motorola-edge-40-neo-caneel-bay-128-gb/p/itm122f351a3a2a3?pid=MOBGQFX6K7YQJRSY&lid=LSTMOBGQFX6K7YQJRSY6BK1PK&marketplace=FLIPKART&store=tyy%2F4io&srno=b_8_171&otracker=browse&fm=organic&iid=en_OdCZYKvp_YPRM0yPWEVX8W9sVh07f-fYjA95Lwt3DpgCtNBslwKUm_5Mx7R6UQsTEf_enk9S_Uoozt-pkVFmwg%3D%3D&ppt=None&ppn=None&ssid=whmrr3qn7k0000001703233468832\n",
      "https://www.flipkart.com/motorola-edge-40-neo-caneel-bay-256-gb/p/itm55813a9671489?pid=MOBGQFX6APUFAPMS&lid=LSTMOBGQFX6APUFAPMSO5N7CJ&marketplace=FLIPKART&store=tyy%2F4io&srno=b_8_172&otracker=browse&fm=organic&iid=en_OdCZYKvp_YPRM0yPWEVX8W9sVh07f-fYjA95Lwt3DpiYg09M_P4dayImPh7tCcBpajoJe4MVXJaCaq0rpPDrhA%3D%3D&ppt=None&ppn=None&ssid=whmrr3qn7k0000001703233468832\n",
      "https://www.flipkart.com/nokia-105-single-sim-keypad-mobile-phone-wireless-fm-radio/p/itm13dfe84676a79?pid=MOBGC96FRD7DB2R7&lid=LSTMOBGC96FRD7DB2R7GXMUIB&marketplace=FLIPKART&store=tyy%2F4io&srno=b_8_173&otracker=browse&fm=organic&iid=0fca584f-e20b-4ff6-abcf-f6ebd0caec35.MOBGC96FRD7DB2R7.SEARCH&ppt=None&ppn=None&ssid=whmrr3qn7k0000001703233468832\n",
      "https://www.flipkart.com/samsung-galaxy-f34-5g-electric-black-128-gb/p/itm85da260a1ae3c?pid=MOBGRZMYDDS8SBXZ&lid=LSTMOBGRZMYDDS8SBXZKIP6ZG&marketplace=FLIPKART&store=tyy%2F4io&srno=b_8_174&otracker=browse&fm=organic&iid=0fca584f-e20b-4ff6-abcf-f6ebd0caec35.MOBGRZMYDDS8SBXZ.SEARCH&ppt=None&ppn=None&ssid=whmrr3qn7k0000001703233468832\n",
      "https://www.flipkart.com/redmi-note-12-5g-matte-black-128-gb/p/itmd0f3dc327bca7?pid=MOBGHNFJPHFFUYM7&lid=LSTMOBGHNFJPHFFUYM73P6SDX&marketplace=FLIPKART&store=tyy%2F4io&srno=b_8_175&otracker=browse&fm=organic&iid=0fca584f-e20b-4ff6-abcf-f6ebd0caec35.MOBGHNFJPHFFUYM7.SEARCH&ppt=None&ppn=None&ssid=whmrr3qn7k0000001703233468832\n",
      "https://www.flipkart.com/poco-c65-pastel-blue-256-gb/p/itm25756864abc77?pid=MOBGVVTX2QNXDJ2W&lid=LSTMOBGVVTX2QNXDJ2WLNZIWO&marketplace=FLIPKART&store=tyy%2F4io&srno=b_8_176&otracker=browse&fm=organic&iid=0fca584f-e20b-4ff6-abcf-f6ebd0caec35.MOBGVVTX2QNXDJ2W.SEARCH&ppt=None&ppn=None&ssid=whmrr3qn7k0000001703233468832\n",
      "https://www.flipkart.com/motorola-g84-5g-viva-magenta-256-gb/p/itmed938e33ffdf5?pid=MOBGQFX672GDDQAQ&lid=LSTMOBGQFX672GDDQAQSSIAM2&marketplace=FLIPKART&store=tyy%2F4io&srno=b_8_177&otracker=browse&fm=organic&iid=en_OdCZYKvp_YPRM0yPWEVX8W9sVh07f-fYjA95Lwt3Dph7hoLSlbjc3Qcf2fZpMRZZuM0e2HrpZBG4kZOyYEMMYA%3D%3D&ppt=None&ppn=None&ssid=whmrr3qn7k0000001703233468832\n",
      "https://www.flipkart.com/motorola-edge-40-neo-black-beauty-256-gb/p/itmd1cc863c7e37a?pid=MOBGQFX6FXEZ3GCE&lid=LSTMOBGQFX6FXEZ3GCE0MNO3C&marketplace=FLIPKART&store=tyy%2F4io&srno=b_8_178&otracker=browse&fm=organic&iid=en_OdCZYKvp_YPRM0yPWEVX8W9sVh07f-fYjA95Lwt3Dpi93YafFVn60yxwjBrL10d2UVsEn_N_UujvMzJ8CDfvvQ%3D%3D&ppt=None&ppn=None&ssid=whmrr3qn7k0000001703233468832\n",
      "https://www.flipkart.com/apple-iphone-12-blue-64-gb/p/itm5778ad0d0d255?pid=MOBFWBYZ8DNJNY7N&lid=LSTMOBFWBYZ8DNJNY7NMWAWOJ&marketplace=FLIPKART&store=tyy%2F4io&srno=b_8_179&otracker=browse&fm=organic&iid=0fca584f-e20b-4ff6-abcf-f6ebd0caec35.MOBFWBYZ8DNJNY7N.SEARCH&ppt=None&ppn=None&ssid=whmrr3qn7k0000001703233468832\n",
      "https://www.flipkart.com/google-pixel-7a-charcoal-128-gb/p/itmb4d7b100b1a4d?pid=MOBGZCQMHGWDYZQ7&lid=LSTMOBGZCQMHGWDYZQ71MTVC2&marketplace=FLIPKART&store=tyy%2F4io&srno=b_8_180&otracker=browse&fm=organic&iid=0fca584f-e20b-4ff6-abcf-f6ebd0caec35.MOBGZCQMHGWDYZQ7.SEARCH&ppt=None&ppn=None&ssid=whmrr3qn7k0000001703233468832\n",
      "https://www.flipkart.com/motorola-edge-40-neo-soothing-sea-128-gb/p/itmcfb87467e7d9a?pid=MOBGQFX6AG2JD2XT&lid=LSTMOBGQFX6AG2JD2XTSPSYR7&marketplace=FLIPKART&store=tyy%2F4io&srno=b_8_181&otracker=browse&fm=organic&iid=en_OdCZYKvp_YPRM0yPWEVX8W9sVh07f-fYjA95Lwt3Dpg4o3uF3KbUhGVThkiQP1RKRNeMKR1e5_GV63gXBCWp7A%3D%3D&ppt=None&ppn=None&ssid=whmrr3qn7k0000001703233468832\n",
      "https://www.flipkart.com/motorola-edge-40-neo-soothing-sea-256-gb/p/itm5bd7da24f41ef?pid=MOBGQFX6H2H2UHFZ&lid=LSTMOBGQFX6H2H2UHFZML9ANG&marketplace=FLIPKART&store=tyy%2F4io&srno=b_8_182&otracker=browse&fm=organic&iid=en_OdCZYKvp_YPRM0yPWEVX8W9sVh07f-fYjA95Lwt3DpjmV028xThCPAW3nOCX5DhDBVAzhcnBSqwspiUrIXcbQw%3D%3D&ppt=None&ppn=None&ssid=whmrr3qn7k0000001703233468832\n",
      "https://www.flipkart.com/oppo-a17-lake-blue-64-gb/p/itm4aae9f8df9008?pid=MOBGMPHKWBPVCDW6&lid=LSTMOBGMPHKWBPVCDW6J9LMDX&marketplace=FLIPKART&store=tyy%2F4io&srno=b_8_183&otracker=browse&fm=organic&iid=0fca584f-e20b-4ff6-abcf-f6ebd0caec35.MOBGMPHKWBPVCDW6.SEARCH&ppt=None&ppn=None&ssid=whmrr3qn7k0000001703233468832\n",
      "https://www.flipkart.com/redmi-12-5g-moonstone-silver-128-gb/p/itm0c8ba13f6fc5b?pid=MOBGS7JGZBZKPGGB&lid=LSTMOBGS7JGZBZKPGGBKBDJJK&marketplace=FLIPKART&store=tyy%2F4io&srno=b_8_184&otracker=browse&fm=organic&iid=0fca584f-e20b-4ff6-abcf-f6ebd0caec35.MOBGS7JGZBZKPGGB.SEARCH&ppt=None&ppn=None&ssid=whmrr3qn7k0000001703233468832\n",
      "https://www.flipkart.com/redmi-12-5g-pastel-blue-128-gb/p/itm0c8ba13f6fc5b?pid=MOBGS7K3BFTXMMGG&lid=LSTMOBGS7K3BFTXMMGG86A0TY&marketplace=FLIPKART&store=tyy%2F4io&srno=b_8_185&otracker=browse&fm=organic&iid=0fca584f-e20b-4ff6-abcf-f6ebd0caec35.MOBGS7K3BFTXMMGG.SEARCH&ppt=None&ppn=None&ssid=whmrr3qn7k0000001703233468832\n",
      "https://www.flipkart.com/infinix-note-12i-metaverse-blue-64-gb/p/itmf9bf9f4663d76?pid=MOBGHXSMDYKEERRW&lid=LSTMOBGHXSMDYKEERRWYNYXTE&marketplace=FLIPKART&store=tyy%2F4io&srno=b_8_186&otracker=browse&fm=organic&iid=0fca584f-e20b-4ff6-abcf-f6ebd0caec35.MOBGHXSMDYKEERRW.SEARCH&ppt=None&ppn=None&ssid=whmrr3qn7k0000001703233468832\n",
      "https://www.flipkart.com/motorola-g84-5g-marshmallow-blue-256-gb/p/itm7807a599d2202?pid=MOBGQFX6CNRYHFGF&lid=LSTMOBGQFX6CNRYHFGFLFOXPA&marketplace=FLIPKART&store=tyy%2F4io&srno=b_8_187&otracker=browse&fm=organic&iid=en_OdCZYKvp_YPRM0yPWEVX8W9sVh07f-fYjA95Lwt3DphxY7LZ7tcYQr9AafTLEpuiHlAim2KasKoHPBVR4_uzsw%3D%3D&ppt=None&ppn=None&ssid=whmrr3qn7k0000001703233468832\n",
      "https://www.flipkart.com/motorola-g54-5g-midnight-blue-128-gb/p/itm1867d5933e9e8?pid=MOBGQFX8P4HFEUCD&lid=LSTMOBGQFX8P4HFEUCDCDMGCN&marketplace=FLIPKART&store=tyy%2F4io&srno=b_8_188&otracker=browse&fm=organic&iid=en_OdCZYKvp_YPRM0yPWEVX8W9sVh07f-fYjA95Lwt3DphMwzGvIt6tUQpwaj6Wsbvcz-TUx5UeJLDD2CjKKCyYug%3D%3D&ppt=None&ppn=None&ssid=whmrr3qn7k0000001703233468832\n",
      "https://www.flipkart.com/redmi-note-12-5g-sunrise-gold-128-gb/p/itm7469fb9d2c5bf?pid=MOBGRM9XDHZ2BVMH&lid=LSTMOBGRM9XDHZ2BVMHHWJVBZ&marketplace=FLIPKART&store=tyy%2F4io&srno=b_8_189&otracker=browse&fm=organic&iid=0fca584f-e20b-4ff6-abcf-f6ebd0caec35.MOBGRM9XDHZ2BVMH.SEARCH&ppt=None&ppn=None&ssid=whmrr3qn7k0000001703233468832\n",
      "https://www.flipkart.com/apple-iphone-15-blue-128-gb/p/itmbf14ef54f645d?pid=MOBGTAGPAQNVFZZY&lid=LSTMOBGTAGPAQNVFZZYSCIIOB&marketplace=FLIPKART&store=tyy%2F4io&srno=b_8_190&otracker=browse&fm=organic&iid=0fca584f-e20b-4ff6-abcf-f6ebd0caec35.MOBGTAGPAQNVFZZY.SEARCH&ppt=None&ppn=None&ssid=whmrr3qn7k0000001703233468832\n",
      "https://www.flipkart.com/motorola-g54-5g-mint-green-128-gb/p/itmfc12683043bbc?pid=MOBGQFX8Z3ZCDZZ7&lid=LSTMOBGQFX8Z3ZCDZZ7IWKPTX&marketplace=FLIPKART&store=tyy%2F4io&srno=b_8_191&otracker=browse&fm=organic&iid=en_OdCZYKvp_YPRM0yPWEVX8W9sVh07f-fYjA95Lwt3DphmV8hEN4QC0mbHpD2Tl1m5KaPN6HfFlVMuKEclzlm1Bw%3D%3D&ppt=None&ppn=None&ssid=whmrr3qn7k0000001703233468832\n",
      "https://www.flipkart.com/motorola-g54-5g-mint-green-256-gb/p/itm9f608c1154160?pid=MOBGQFX8XGUATGRT&lid=LSTMOBGQFX8XGUATGRTPMN68O&marketplace=FLIPKART&store=tyy%2F4io&srno=b_8_192&otracker=browse&fm=organic&iid=en_OdCZYKvp_YPRM0yPWEVX8W9sVh07f-fYjA95Lwt3DpgP3-dZ7rXAAp6DHu2re3cSUlj3cpxZQaoumGiNT6nZtQ%3D%3D&ppt=None&ppn=None&ssid=whmrr3qn7k0000001703233468832\n"
     ]
    },
    {
     "name": "stdout",
     "output_type": "stream",
     "text": [
      "https://www.flipkart.com/realme-11-pro-5g-astral-black-256-gb/p/itm3f783627a36ec?pid=MOBGPUNGNHJM8HKS&lid=LSTMOBGPUNGNHJM8HKSXLXRR3&marketplace=FLIPKART&store=tyy%2F4io&srno=b_9_193&otracker=browse&fm=organic&iid=d0a7b103-189a-46e2-8018-15fa65857416.MOBGPUNGNHJM8HKS.SEARCH&ppt=None&ppn=None&ssid=z19qp1923k0000001703233470037\n",
      "https://www.flipkart.com/realme-11-pro-5g-sunrise-beige-256-gb/p/itm3f783627a36ec?pid=MOBGPUNGGMRMZDQ9&lid=LSTMOBGPUNGGMRMZDQ9RPSPAE&marketplace=FLIPKART&store=tyy%2F4io&srno=b_9_194&otracker=browse&fm=organic&iid=d0a7b103-189a-46e2-8018-15fa65857416.MOBGPUNGGMRMZDQ9.SEARCH&ppt=None&ppn=None&ssid=z19qp1923k0000001703233470037\n",
      "https://www.flipkart.com/google-pixel-8-hazel-256-gb/p/itm67e2a2531aaac?pid=MOBGT5F2R7MCUSWG&lid=LSTMOBGT5F2R7MCUSWGNYZQSJ&marketplace=FLIPKART&store=tyy%2F4io&srno=b_9_195&otracker=browse&fm=organic&iid=d0a7b103-189a-46e2-8018-15fa65857416.MOBGT5F2R7MCUSWG.SEARCH&ppt=None&ppn=None&ssid=z19qp1923k0000001703233470037\n",
      "https://www.flipkart.com/realme-11-pro-5g-sunrise-beige-128-gb/p/itm3f783627a36ec?pid=MOBGPUNGXUZQKTTB&lid=LSTMOBGPUNGXUZQKTTBZM2YUI&marketplace=FLIPKART&store=tyy%2F4io&srno=b_9_196&otracker=browse&fm=organic&iid=d0a7b103-189a-46e2-8018-15fa65857416.MOBGPUNGXUZQKTTB.SEARCH&ppt=None&ppn=None&ssid=z19qp1923k0000001703233470037\n",
      "https://www.flipkart.com/motorola-edge-40-neo-caneel-bay-256-gb/p/itm55813a9671489?pid=MOBGQFX6APUFAPMS&lid=LSTMOBGQFX6APUFAPMSO5N7CJ&marketplace=FLIPKART&store=tyy%2F4io&srno=b_9_197&otracker=browse&fm=organic&iid=en_paL0TldjP93huFxEIygprVB5NaHfYNzBXGbxcAY6f1DX_j4kGU6dFd6q1TLmjxrSajoJe4MVXJaCaq0rpPDrhA%3D%3D&ppt=None&ppn=None&ssid=z19qp1923k0000001703233470037\n",
      "https://www.flipkart.com/motorola-edge-40-neo-black-beauty-256-gb/p/itmd1cc863c7e37a?pid=MOBGQFX6FXEZ3GCE&lid=LSTMOBGQFX6FXEZ3GCE0MNO3C&marketplace=FLIPKART&store=tyy%2F4io&srno=b_9_198&otracker=browse&fm=organic&iid=en_paL0TldjP93huFxEIygprVB5NaHfYNzBXGbxcAY6f1CmHXd5xnMfqZjDag54WhalUVsEn_N_UujvMzJ8CDfvvQ%3D%3D&ppt=None&ppn=None&ssid=z19qp1923k0000001703233470037\n",
      "https://www.flipkart.com/realme-11-pro-5g-oasis-green-128-gb/p/itm3f783627a36ec?pid=MOBGQWWXAKJNMH2D&lid=LSTMOBGQWWXAKJNMH2DJADI1Z&marketplace=FLIPKART&store=tyy%2F4io&srno=b_9_199&otracker=browse&fm=organic&iid=d0a7b103-189a-46e2-8018-15fa65857416.MOBGQWWXAKJNMH2D.SEARCH&ppt=None&ppn=None&ssid=z19qp1923k0000001703233470037\n",
      "https://www.flipkart.com/nothing-phone-2-dark-grey-512-gb/p/itmc1490711c3eb9?pid=MOBGZSDKJSFH7GZT&lid=LSTMOBGZSDKJSFH7GZT0NUNZF&marketplace=FLIPKART&store=tyy%2F4io&srno=b_9_200&otracker=browse&fm=organic&iid=d0a7b103-189a-46e2-8018-15fa65857416.MOBGZSDKJSFH7GZT.SEARCH&ppt=None&ppn=None&ssid=z19qp1923k0000001703233470037\n",
      "https://www.flipkart.com/motorola-edge-40-neo-soothing-sea-256-gb/p/itm5bd7da24f41ef?pid=MOBGQFX6H2H2UHFZ&lid=LSTMOBGQFX6H2H2UHFZML9ANG&marketplace=FLIPKART&store=tyy%2F4io&srno=b_9_201&otracker=browse&fm=organic&iid=en_paL0TldjP93huFxEIygprVB5NaHfYNzBXGbxcAY6f1B9ob8PBb3zXwRFj9wX1a9nBVAzhcnBSqwspiUrIXcbQw%3D%3D&ppt=None&ppn=None&ssid=z19qp1923k0000001703233470037\n",
      "https://www.flipkart.com/motorola-edge-40-neo-caneel-bay-128-gb/p/itm122f351a3a2a3?pid=MOBGQFX6K7YQJRSY&lid=LSTMOBGQFX6K7YQJRSY6BK1PK&marketplace=FLIPKART&store=tyy%2F4io&srno=b_9_202&otracker=browse&fm=organic&iid=en_paL0TldjP93huFxEIygprVB5NaHfYNzBXGbxcAY6f1DCozoPY2E1pgLMDYbCyxvlEf_enk9S_Uoozt-pkVFmwg%3D%3D&ppt=None&ppn=None&ssid=z19qp1923k0000001703233470037\n",
      "https://www.flipkart.com/oppo-a17k-navy-blue-64-gb/p/itmae3f2dc7e0f6e?pid=MOBGGR7N3GNZDFYG&lid=LSTMOBGGR7N3GNZDFYG5JID4K&marketplace=FLIPKART&store=tyy%2F4io&srno=b_9_203&otracker=browse&fm=organic&iid=d0a7b103-189a-46e2-8018-15fa65857416.MOBGGR7N3GNZDFYG.SEARCH&ppt=None&ppn=None&ssid=z19qp1923k0000001703233470037\n",
      "https://www.flipkart.com/nothing-phone-2-white-512-gb/p/itmc1490711c3eb9?pid=MOBGZSDKJYHHV3KN&lid=LSTMOBGZSDKJYHHV3KNEMJPQM&marketplace=FLIPKART&store=tyy%2F4io&srno=b_9_204&otracker=browse&fm=organic&iid=d0a7b103-189a-46e2-8018-15fa65857416.MOBGZSDKJYHHV3KN.SEARCH&ppt=None&ppn=None&ssid=z19qp1923k0000001703233470037\n",
      "https://www.flipkart.com/google-pixel-8-obsidian-128-gb/p/itm67e2a2531aaac?pid=MOBGT5F2KGVNAPYY&lid=LSTMOBGT5F2KGVNAPYYWJKL43&marketplace=FLIPKART&store=tyy%2F4io&srno=b_9_205&otracker=browse&fm=organic&iid=d0a7b103-189a-46e2-8018-15fa65857416.MOBGT5F2KGVNAPYY.SEARCH&ppt=None&ppn=None&ssid=z19qp1923k0000001703233470037\n",
      "https://www.flipkart.com/google-pixel-8-hazel-128-gb/p/itm67e2a2531aaac?pid=MOBGT5F2WD8HPTPZ&lid=LSTMOBGT5F2WD8HPTPZ4A9QHI&marketplace=FLIPKART&store=tyy%2F4io&srno=b_9_206&otracker=browse&fm=organic&iid=d0a7b103-189a-46e2-8018-15fa65857416.MOBGT5F2WD8HPTPZ.SEARCH&ppt=None&ppn=None&ssid=z19qp1923k0000001703233470037\n",
      "https://www.flipkart.com/motorola-edge-40-neo-soothing-sea-128-gb/p/itmcfb87467e7d9a?pid=MOBGQFX6AG2JD2XT&lid=LSTMOBGQFX6AG2JD2XTSPSYR7&marketplace=FLIPKART&store=tyy%2F4io&srno=b_9_207&otracker=browse&fm=organic&iid=en_paL0TldjP93huFxEIygprVB5NaHfYNzBXGbxcAY6f1DxmrdyJA6T6QXBtdiNhVb_RNeMKR1e5_GV63gXBCWp7A%3D%3D&ppt=None&ppn=None&ssid=z19qp1923k0000001703233470037\n",
      "https://www.flipkart.com/motorola-edge-40-neo-black-beauty-128-gb/p/itm01cc46d96a79f?pid=MOBGQFX6JGTWFSGD&lid=LSTMOBGQFX6JGTWFSGDB2AE0L&marketplace=FLIPKART&store=tyy%2F4io&srno=b_9_208&otracker=browse&fm=organic&iid=en_paL0TldjP93huFxEIygprVB5NaHfYNzBXGbxcAY6f1B4ZAbIArUA3UbBNf79MNRTI6eDmINmgh8qysZRbsh8sA%3D%3D&ppt=None&ppn=None&ssid=z19qp1923k0000001703233470037\n",
      "https://www.flipkart.com/google-pixel-8-rose-128-gb/p/itm67e2a2531aaac?pid=MOBGT5F22JFCABET&lid=LSTMOBGT5F22JFCABETVKHMHM&marketplace=FLIPKART&store=tyy%2F4io&srno=b_9_209&otracker=browse&fm=organic&iid=d0a7b103-189a-46e2-8018-15fa65857416.MOBGT5F22JFCABET.SEARCH&ppt=None&ppn=None&ssid=z19qp1923k0000001703233470037\n",
      "https://www.flipkart.com/poco-m5-icy-blue-128-gb/p/itmdff67fe6f5687?pid=MOBGHMZEP9EFTVA4&lid=LSTMOBGHMZEP9EFTVA4LNLEAO&marketplace=FLIPKART&store=tyy%2F4io&srno=b_9_210&otracker=browse&fm=organic&iid=d0a7b103-189a-46e2-8018-15fa65857416.MOBGHMZEP9EFTVA4.SEARCH&ppt=None&ppn=None&ssid=z19qp1923k0000001703233470037\n",
      "https://www.flipkart.com/motorola-g84-5g-viva-magenta-256-gb/p/itmed938e33ffdf5?pid=MOBGQFX672GDDQAQ&lid=LSTMOBGQFX672GDDQAQSSIAM2&marketplace=FLIPKART&store=tyy%2F4io&srno=b_9_211&otracker=browse&fm=organic&iid=en_paL0TldjP93huFxEIygprVB5NaHfYNzBXGbxcAY6f1B-Ce2bl0rRE-cIVNYfSmMVuM0e2HrpZBG4kZOyYEMMYA%3D%3D&ppt=None&ppn=None&ssid=z19qp1923k0000001703233470037\n",
      "https://www.flipkart.com/motorola-g84-5g-marshmallow-blue-256-gb/p/itm7807a599d2202?pid=MOBGQFX6CNRYHFGF&lid=LSTMOBGQFX6CNRYHFGFLFOXPA&marketplace=FLIPKART&store=tyy%2F4io&srno=b_9_212&otracker=browse&fm=organic&iid=en_paL0TldjP93huFxEIygprVB5NaHfYNzBXGbxcAY6f1Dbq2cigYp_YuSlGJf-0hPfHlAim2KasKoHPBVR4_uzsw%3D%3D&ppt=None&ppn=None&ssid=z19qp1923k0000001703233470037\n",
      "https://www.flipkart.com/nothing-phone-2-dark-grey-256-gb/p/itmc1490711c3eb9?pid=MOBGZSDKU5CGE8FX&lid=LSTMOBGZSDKU5CGE8FXD4MGTF&marketplace=FLIPKART&store=tyy%2F4io&srno=b_9_213&otracker=browse&fm=organic&iid=d0a7b103-189a-46e2-8018-15fa65857416.MOBGZSDKU5CGE8FX.SEARCH&ppt=None&ppn=None&ssid=z19qp1923k0000001703233470037\n",
      "https://www.flipkart.com/samsung-galaxy-s22-5g-phantom-black-128-gb/p/itmfe5b23fcf67ec?pid=MOBGGG2YNYPZZN33&lid=LSTMOBGGG2YNYPZZN33QYL1EE&marketplace=FLIPKART&store=tyy%2F4io&srno=b_9_214&otracker=browse&fm=organic&iid=d0a7b103-189a-46e2-8018-15fa65857416.MOBGGG2YNYPZZN33.SEARCH&ppt=None&ppn=None&ssid=z19qp1923k0000001703233470037\n",
      "https://www.flipkart.com/samsung-guru-1200/p/itmb6a3ac1337b58?pid=MOBEBPT25VG3HGTZ&lid=LSTMOBEBPT25VG3HGTZT6RKXI&marketplace=FLIPKART&store=tyy%2F4io&srno=b_9_215&otracker=browse&fm=organic&iid=d0a7b103-189a-46e2-8018-15fa65857416.MOBEBPT25VG3HGTZ.SEARCH&ppt=None&ppn=None&ssid=z19qp1923k0000001703233470037\n",
      "https://www.flipkart.com/redmi-12-5g-pastel-blue-256-gb/p/itm33b5f7887a701?pid=MOBGS9T8EPYWHHSG&lid=LSTMOBGS9T8EPYWHHSG4TQ61K&marketplace=FLIPKART&store=tyy%2F4io&srno=b_9_216&otracker=browse&fm=organic&iid=d0a7b103-189a-46e2-8018-15fa65857416.MOBGS9T8EPYWHHSG.SEARCH&ppt=None&ppn=None&ssid=z19qp1923k0000001703233470037\n"
     ]
    }
   ],
   "source": [
    "import requests\n",
    "from bs4 import BeautifulSoup\n",
    "import pandas as pd\n",
    "import datetime\n",
    "\n",
    "\n",
    "baseurl = 'https://www.flipkart.com'\n",
    "product_links = []\n",
    "\n",
    "for x in range(0,10):\n",
    "    r = requests.get(f'https://www.flipkart.com/mobiles/pr?sid=tyy%2C4io&param=0001&ctx=eyJjYXJkQ29udGV4dCI6eyJhdHRyaWJ1dGVzIjp7InRpdGxlIjp7Im11bHRpVmFsdWVkQXR0cmlidXRlIjp7ImtleSI6InRpdGxlIiwiaW5mZXJlbmNlVHlwZSI6IlRJVExFIiwidmFsdWVzIjpbIlBvY28gc21hcnRwaG9uZXMiXSwidmFsdWVUeXBlIjoiTVVMVElfVkFMVUVEIn19fX19&wid=38.productCard.PMU_V2_32&page={x}')\n",
    "    soup = BeautifulSoup(r.content)\n",
    "\n",
    "\n",
    "    spans = soup.find_all('div',{'class':'_2kHMtA'})\n",
    "\n",
    "    for span in spans:\n",
    "        links = span.find_all('a')\n",
    "        for link in links:\n",
    "            productlinks = baseurl + link['href']\n",
    "            product_links.append(productlinks)\n",
    "            print(productlinks)\n"
   ]
  },
  {
   "cell_type": "code",
   "execution_count": 60,
   "id": "ff382585",
   "metadata": {},
   "outputs": [
    {
     "name": "stdout",
     "output_type": "stream",
     "text": [
      "216\n"
     ]
    }
   ],
   "source": [
    "print(len(product_links))"
   ]
  },
  {
   "cell_type": "code",
   "execution_count": null,
   "id": "4e1efb9a",
   "metadata": {},
   "outputs": [],
   "source": []
  }
 ],
 "metadata": {
  "kernelspec": {
   "display_name": "Python 3 (ipykernel)",
   "language": "python",
   "name": "python3"
  },
  "language_info": {
   "codemirror_mode": {
    "name": "ipython",
    "version": 3
   },
   "file_extension": ".py",
   "mimetype": "text/x-python",
   "name": "python",
   "nbconvert_exporter": "python",
   "pygments_lexer": "ipython3",
   "version": "3.10.10"
  }
 },
 "nbformat": 4,
 "nbformat_minor": 5
}
