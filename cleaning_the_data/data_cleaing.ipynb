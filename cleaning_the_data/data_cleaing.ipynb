{
 "cells": [
  {
   "cell_type": "code",
   "execution_count": 20,
   "id": "8aa0f403",
   "metadata": {},
   "outputs": [],
   "source": [
    "import pandas as pd"
   ]
  },
  {
   "cell_type": "code",
   "execution_count": 21,
   "id": "0c207dd2",
   "metadata": {},
   "outputs": [],
   "source": [
    "file = 'Flipkart_mobileprice.csv'\n",
    "df = pd.read_csv(file)"
   ]
  },
  {
   "cell_type": "code",
   "execution_count": 22,
   "id": "79f5e97b",
   "metadata": {},
   "outputs": [
    {
     "name": "stdout",
     "output_type": "stream",
     "text": [
      "Original Data:\n",
      "   Unnamed: 0                                       Product_Name  \\\n",
      "0           0  MOTOROLA Edge 40 Neo (Caneel Bay, 256 GB)  (12...   \n",
      "1           1  MOTOROLA Edge 40 Neo (Black Beauty, 256 GB)  (...   \n",
      "2           2  MOTOROLA g54 5G (Midnight Blue, 128 GB)  (8 GB...   \n",
      "3           3                                               None   \n",
      "4           4   MOTOROLA g54 5G (Pearl Blue, 128 GB)  (8 GB RAM)   \n",
      "\n",
      "  Product_Brand Rating Old_Price Current_Price  \n",
      "0      MOTOROLA    4.3   ₹29,999       ₹24,999  \n",
      "1      MOTOROLA    4.3   ₹29,999       ₹24,999  \n",
      "2      MOTOROLA    4.2   ₹17,999       ₹13,999  \n",
      "3          None   None      None          None  \n",
      "4      MOTOROLA    4.2   ₹17,999       ₹13,999  \n"
     ]
    }
   ],
   "source": [
    "print(\"Original Data:\")\n",
    "print(df.head())"
   ]
  },
  {
   "cell_type": "code",
   "execution_count": 23,
   "id": "e1dbfa56",
   "metadata": {},
   "outputs": [],
   "source": [
    "df = df.drop_duplicates()"
   ]
  },
  {
   "cell_type": "code",
   "execution_count": 24,
   "id": "c69b4ec8",
   "metadata": {},
   "outputs": [],
   "source": [
    "df = df[df.ne('None').all(axis=1)]\n"
   ]
  },
  {
   "cell_type": "code",
   "execution_count": 25,
   "id": "bd8ea87a",
   "metadata": {},
   "outputs": [],
   "source": [
    "df = df.reset_index(drop=True)"
   ]
  },
  {
   "cell_type": "code",
   "execution_count": 31,
   "id": "0002d73e",
   "metadata": {},
   "outputs": [
    {
     "name": "stdout",
     "output_type": "stream",
     "text": [
      "     Unnamed: 0                                       Product_Name  \\\n",
      "0             0  MOTOROLA Edge 40 Neo (Caneel Bay, 256 GB)  (12...   \n",
      "1             1  MOTOROLA Edge 40 Neo (Black Beauty, 256 GB)  (...   \n",
      "2             2  MOTOROLA g54 5G (Midnight Blue, 128 GB)  (8 GB...   \n",
      "3             4   MOTOROLA g54 5G (Pearl Blue, 128 GB)  (8 GB RAM)   \n",
      "4             5  MOTOROLA Edge 40 Neo (Soothing Sea, 128 GB)  (...   \n",
      "..          ...                                                ...   \n",
      "168         186  MOTOROLA g84 5G (Marshmallow Blue, 256 GB)  (1...   \n",
      "169         187  MOTOROLA g54 5G (Midnight Blue, 128 GB)  (8 GB...   \n",
      "170         188      realme 11 5G (Glory Gold, 128 GB)  (8 GB RAM)   \n",
      "171         189  SAMSUNG Galaxy F13 (Nightsky Green, 64 GB)  (4...   \n",
      "172         191  REDMI Note 12 Pro+ 5G (Iceberg Blue, 256 GB)  ...   \n",
      "\n",
      "    Product_Brand Rating Old_Price Current_Price  \n",
      "0        MOTOROLA    4.3   ₹29,999       ₹24,999  \n",
      "1        MOTOROLA    4.3   ₹29,999       ₹24,999  \n",
      "2        MOTOROLA    4.2   ₹17,999       ₹13,999  \n",
      "3        MOTOROLA    4.2   ₹17,999       ₹13,999  \n",
      "4        MOTOROLA    4.4   ₹27,999       ₹22,999  \n",
      "..            ...    ...       ...           ...  \n",
      "168      MOTOROLA    4.2   ₹22,999       ₹18,999  \n",
      "169      MOTOROLA    4.2   ₹17,999       ₹13,999  \n",
      "170        REALME    4.3   ₹20,999       ₹16,999  \n",
      "171       SAMSUNG    4.3   ₹14,999        ₹8,199  \n",
      "172         REDMI      5   ₹33,999       ₹27,999  \n",
      "\n",
      "[173 rows x 6 columns]\n"
     ]
    }
   ],
   "source": [
    "print(df.head(200))"
   ]
  },
  {
   "cell_type": "code",
   "execution_count": 40,
   "id": "3511051d",
   "metadata": {},
   "outputs": [
    {
     "name": "stdout",
     "output_type": "stream",
     "text": [
      "173\n"
     ]
    }
   ],
   "source": [
    "rows = df.shape[0]"
   ]
  },
  {
   "cell_type": "code",
   "execution_count": null,
   "id": "f8a463b8",
   "metadata": {},
   "outputs": [],
   "source": []
  },
  {
   "cell_type": "code",
   "execution_count": null,
   "id": "4ae63a6f",
   "metadata": {},
   "outputs": [],
   "source": []
  },
  {
   "cell_type": "code",
   "execution_count": null,
   "id": "08bcb16c",
   "metadata": {},
   "outputs": [],
   "source": []
  },
  {
   "cell_type": "code",
   "execution_count": null,
   "id": "d2cf7fa9",
   "metadata": {},
   "outputs": [],
   "source": []
  },
  {
   "cell_type": "code",
   "execution_count": null,
   "id": "47ae264c",
   "metadata": {},
   "outputs": [],
   "source": []
  },
  {
   "cell_type": "code",
   "execution_count": null,
   "id": "d9dcbf04",
   "metadata": {},
   "outputs": [],
   "source": []
  }
 ],
 "metadata": {
  "kernelspec": {
   "display_name": "Python 3 (ipykernel)",
   "language": "python",
   "name": "python3"
  },
  "language_info": {
   "codemirror_mode": {
    "name": "ipython",
    "version": 3
   },
   "file_extension": ".py",
   "mimetype": "text/x-python",
   "name": "python",
   "nbconvert_exporter": "python",
   "pygments_lexer": "ipython3",
   "version": "3.10.10"
  }
 },
 "nbformat": 4,
 "nbformat_minor": 5
}
